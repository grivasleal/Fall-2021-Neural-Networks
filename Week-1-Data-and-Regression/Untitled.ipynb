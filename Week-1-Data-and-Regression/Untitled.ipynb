{
 "cells": [
  {
   "cell_type": "code",
   "execution_count": 3,
   "metadata": {},
   "outputs": [],
   "source": [
    "import numpy as np"
   ]
  },
  {
   "cell_type": "code",
   "execution_count": 4,
   "metadata": {},
   "outputs": [],
   "source": [
    "# create a function to approximate a gradient\n",
    "def computeGradient(f, x, h):\n",
    "    n = len(x)\n",
    "    gradient = np.zeros(n)\n",
    "    \n",
    "    fx = f(x)\n",
    "    \n",
    "    for counter in range(n):\n",
    "        xUp = x.copy()\n",
    "        xUp[counter] += h\n",
    "        gradient[counter] = (f(xUp) - fx)/h\n",
    "        \n",
    "    return gradient\n",
    "\n",
    "# create a gradient descent function to find minima\n",
    "def gradientDescent(f, x0, alpha, h, tolerance, maxIterations):\n",
    "    # x's represent weights\n",
    "    x = x0\n",
    "    \n",
    "    for counter in range(maxIterations):\n",
    "        gradient = computeGradient(f, x, h)\n",
    "        \n",
    "        # stop if the gradient is near 0\n",
    "        if np.linalg.norm(gradient) < tolerance:\n",
    "            print('Gradient descent took', counter,\n",
    "                  'iterations to converge')\n",
    "            return x\n",
    "        \n",
    "        elif counter == maxIterations - 1:\n",
    "            print('Gradient descent did not converge')\n",
    "            print('the gradient is', gradient)\n",
    "            return x\n",
    "        \n",
    "        # do a weight update\n",
    "        x -= alpha * gradient"
   ]
  },
  {
   "cell_type": "code",
   "execution_count": 5,
   "metadata": {},
   "outputs": [
    {
     "name": "stdout",
     "output_type": "stream",
     "text": [
      "Gradient descent took 38 iterations to converge\n",
      "[-8.45124054e-05] 7.142346663117863e-09\n"
     ]
    }
   ],
   "source": [
    "f = lambda x : x[0] ** 2\n",
    "\n",
    "x = gradientDescent(f, [2], 0.1, 0.001, 0.001, 10000)\n",
    "\n",
    "print(x, f(x))"
   ]
  },
  {
   "cell_type": "code",
   "execution_count": 13,
   "metadata": {},
   "outputs": [
    {
     "name": "stdout",
     "output_type": "stream",
     "text": [
      "Gradient descent took 84813 iterations to converge\n",
      "[4.71088904] [-0.99999888]\n"
     ]
    }
   ],
   "source": [
    "f = lambda x : np.sin(x)\n",
    "\n",
    "x = gradientDescent(f, [3*np.pi/4], 0.0001, 0.001, 0.001, 1000000)\n",
    "\n",
    "print(x, f(x))"
   ]
  },
  {
   "cell_type": "code",
   "execution_count": 14,
   "metadata": {},
   "outputs": [
    {
     "data": {
      "text/plain": [
       "2210.5263157894738"
      ]
     },
     "execution_count": 14,
     "metadata": {},
     "output_type": "execute_result"
    }
   ],
   "source": [
    "84000/38"
   ]
  },
  {
   "cell_type": "code",
   "execution_count": null,
   "metadata": {},
   "outputs": [],
   "source": [
    "# linear regression model\n",
    "class LeastSquaresGradient:\n",
    "    # function to fit the model\n",
    "    def fit(self, X, y, w0, alpha, h, tolerance, maxIterations):\n",
    "        self.n = X.shape[0]\n",
    "        self.d = X.shape[1]\n",
    "        self.h = h\n",
    "        self.alpha = alpha\n",
    "        self.initialGuess = w0\n",
    "        \n",
    "        # append a column of ones to X\n",
    "        self.data = np.hstack((np.ones([self.n, 1]), X))\n",
    "        self.outputs = y\n",
    "        \n",
    "        X = self.data\n",
    "        \n",
    "        # loss function\n",
    "        L = lambda w: ((X @ w - y).T) @ (X @ w - y)\n",
    "        \n",
    "        # optimize the weights\n",
    "        self.w = self.gradientDescent(L, self.initialGuess, self.alpha, self.h,\n",
    "                                      tolerance, maxIterations)\n",
    "        \n",
    "    # function to make predictions\n",
    "    def predict(self, X):\n",
    "        yPre\n",
    "        \n",
    "    # create a function to approximate a gradient\n",
    "    def computeGradient(f, x, h):\n",
    "        n = len(x)\n",
    "        gradient = np.zeros(n)\n",
    "\n",
    "        fx = f(x)\n",
    "\n",
    "        for counter in range(n):\n",
    "            xUp = x.copy()\n",
    "            xUp[counter] += h\n",
    "            gradient[counter] = (f(xUp) - fx)/h\n",
    "\n",
    "        return gradient\n",
    "\n",
    "    # create a gradient descent function to find minima\n",
    "    def gradientDescent(self, f, x0, alpha, h, tolerance, maxIterations):\n",
    "        # x's represent weights\n",
    "        x = x0\n",
    "\n",
    "        for counter in range(maxIterations):\n",
    "            gradient = computeGradient(f, x, h)\n",
    "\n",
    "            # stop if the gradient is near 0\n",
    "            if np.linalg.norm(gradient) < tolerance:\n",
    "                print('Gradient descent took', counter,\n",
    "                      'iterations to converge')\n",
    "                return x\n",
    "\n",
    "            elif counter == maxIterations - 1:\n",
    "                print('Gradient descent did not converge')\n",
    "                print('the gradient is', gradient)\n",
    "                return x\n",
    "\n",
    "            # do a weight update\n",
    "            x -= alpha * gradient"
   ]
  }
 ],
 "metadata": {
  "kernelspec": {
   "display_name": "Python 3.7 (DL)",
   "language": "python",
   "name": "dl"
  },
  "language_info": {
   "codemirror_mode": {
    "name": "ipython",
    "version": 3
   },
   "file_extension": ".py",
   "mimetype": "text/x-python",
   "name": "python",
   "nbconvert_exporter": "python",
   "pygments_lexer": "ipython3",
   "version": "3.7.7"
  }
 },
 "nbformat": 4,
 "nbformat_minor": 4
}
