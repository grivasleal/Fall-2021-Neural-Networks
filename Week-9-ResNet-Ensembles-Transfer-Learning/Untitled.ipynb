{
 "cells": [
  {
   "cell_type": "code",
   "execution_count": 7,
   "id": "c7e6e168-6dd7-46df-b2bf-d2b8c47871c0",
   "metadata": {},
   "outputs": [
    {
     "name": "stdout",
     "output_type": "stream",
     "text": [
      "['../data/animals/images\\\\cats', '../data/animals/images\\\\dogs', '../data/animals/images\\\\panda']\n"
     ]
    }
   ],
   "source": [
    "import glob\n",
    "\n",
    "print(glob.glob('../data/animals/images/*'))"
   ]
  },
  {
   "cell_type": "code",
   "execution_count": null,
   "id": "615b14d2-4cea-4d5a-971c-eb05248e66f3",
   "metadata": {},
   "outputs": [],
   "source": []
  }
 ],
 "metadata": {
  "kernelspec": {
   "display_name": "Python 3 (ipykernel)",
   "language": "python",
   "name": "python3"
  },
  "language_info": {
   "codemirror_mode": {
    "name": "ipython",
    "version": 3
   },
   "file_extension": ".py",
   "mimetype": "text/x-python",
   "name": "python",
   "nbconvert_exporter": "python",
   "pygments_lexer": "ipython3",
   "version": "3.9.6"
  }
 },
 "nbformat": 4,
 "nbformat_minor": 5
}
