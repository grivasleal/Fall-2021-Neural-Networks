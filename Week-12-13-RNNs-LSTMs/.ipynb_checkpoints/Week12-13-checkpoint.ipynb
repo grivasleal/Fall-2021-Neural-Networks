{
 "cells": [
  {
   "cell_type": "markdown",
   "id": "1089feeb-d204-4ce7-a142-14dd315823bd",
   "metadata": {},
   "source": [
    "# Weeks 12-13\n",
    "\n",
    "This week and next week, we will be moving into sequence modeling and recurrent neural networks, which have backward connections."
   ]
  },
  {
   "cell_type": "markdown",
   "id": "920b331d-65fb-43da-8565-d86cdfdd2b09",
   "metadata": {},
   "source": [
    "# Lecture 22 - Recurrent Neural Networks\n",
    "\n",
    "Recurrent neural networks are simply networks that can have connections going backward in the network, unlike the nets we have seen so far.\n",
    "\n",
    "Here, we introduce an idea of timesteps where we input a datapoint to the net at each timestep. As a datapoint passes through an RNN, it will proceed to the output layer but the information being sent through the reverse connections will be fed into the net while the next datapoint is passed through the RNN.\n",
    "\n",
    "## Why Are Backward Connections Useful?\n",
    "\n",
    "The way RNNs operate means the current datapoint will receive information derived from the previous datapoint since weights will persist and feed information into the net as a new datapoint goes through the net.\n",
    "\n",
    "The prior information continues to influence how the net operates because, at a third timestep, the information will continue going through the loops in the network architecture, the same at the fourth step, and so on. Therefore, a fundamental difference between RNNs and the nets we have seen in the past is this persistent \"memory\" of previous datapoints, which allows us to use context of the previous datapoints to make inferences about each datapoint.\n",
    "\n",
    "### Examples\n",
    "\n",
    "If we have a paragraph of text, we could feed it into the net word-by-word and try to classify the whole sequence. It gives us the power of using the *context* built by the other words in the paragraph. Any use of language, such as recognizing spoken words, handwritten text, or sign language, can benefit from this.\n",
    "\n",
    "In addition, in handwriting recognition where we have a whole word of text, certainly knowing some letters in the word can help you figure out an unknown letter in the center. For example, if we have a K, it is very very unlikely the next letter will be a Q in English. For another example, here's a word I wrote:\n",
    "\n",
    "![img](../images/feature.png)\n",
    "\n",
    "Obviously, being an intelligent human, you know the third letter is an 'a' and not a 'u' because \"feuture\" isn't a word and your professor has passable spelling skills. However, looking at that letter in isolation makes its identity totally ambiguous. Letter/digit recognition is the kind of task we have assigned to neural nets before, but RNNs have a more unique ability to read letters one-by-one, and use the past letters to influence later classifications.\n",
    "\n",
    "The commonality in all of these examples is that they all involve making inferences about *sequences* of inputs (letters, words, signs), rather than just individual inputs.\n",
    "\n",
    "Note that we are talking only of new datapoints being influenced by prior datapoints, but we will also learn about bidirectional RNNs, which look both forward and backward in time by distances the net will learn.\n",
    "\n",
    "Of course, CNNs also use local structure within datapoints to make inferences about the whole datapoint too, but we have to specify what size filters and how many filters to use for this. With RNNs, the net will automatically learn to use as much of the past information as it needs to use for a given point.\n",
    "\n",
    "## Training RNNs\n",
    "\n",
    "The most common approach to training RNNs is essentially the same as any other neural net we have seen: stochastic gradient descent and backpropagation. SGD will operate just the same as the other nets. Recall we have used backpropagation to compute exact gradients needed by SGD by systematic use of the chain rule propagating backwards from the loss function to the weights and biases in the network.\n",
    "\n",
    "RNNs present a challenge to this idea--what does it mean to propagate backwards in a net that has loops?! There would be infinite paths the method could take since there are loops it could traverse arbitrarily many times."
   ]
  },
  {
   "cell_type": "markdown",
   "id": "ee48e267-6b46-4f68-812e-be46be16bb20",
   "metadata": {},
   "source": [
    "## Sentiment Analysis\n",
    "\n",
    "One area of application of RNNs is in sentiment analysis--attempts to identify the feelings associated with written text. Examples:\n",
    "\n",
    "* Is a review of a product or service or song or movie positive, neutral, or negative?\n",
    "* Was someone happy or sad in describing their day?\n",
    "* Are song lyrics sad or happy or excited?\n",
    "\n",
    "### Movie Reviews\n",
    "\n",
    "Let's see what we can do with movie reviews for an experiment in sentiment analysis. The data comes from the Internet Movie Database (IMBD), provided by\n",
    "\n",
    "* Andrew L. Maas, Raymond E. Daly, Peter T. Pham, Dan Huang, Andrew Y. Ng, and Christopher Potts. (2011). [Learning Word Vectors for Sentiment Analysis](https://ai.stanford.edu/~amaas/papers/wvSent_acl2011.pdf). *The 49th Annual Meeting of the Association for Computational Linguistics (ACL 2011)*.\n",
    "\n",
    "The dataset contains 50,000 reviews (half in a training set, half in a testing set). Each dataset has reviews from disjoint sets of movies, at most 30 per movie. Each review on IMDB includes a rating from 0 to 10, but the data includes only negative reviews ($\\leq 4$ rating) and positive reviews ($\\geq 6$ rating) as the labels for the datapoints.\n",
    "\n",
    "We will use the dataset to try to classify the reviews as positive or negative."
   ]
  },
  {
   "cell_type": "code",
   "execution_count": 1,
   "id": "672d0e11-30a8-41ec-9a08-4fe36d3666a8",
   "metadata": {},
   "outputs": [],
   "source": [
    "from tensorflow.keras import Input\n",
    "from tensorflow.keras.layers import Activation\n",
    "from tensorflow.keras.layers import Bidirectional\n",
    "from tensorflow.keras.layers import Conv1D\n",
    "from tensorflow.keras.layers import Dense\n",
    "from tensorflow.keras.layers import Dropout\n",
    "from tensorflow.keras.layers import Embedding\n",
    "from tensorflow.keras.layers import InputLayer\n",
    "from tensorflow.keras.layers import LSTM\n",
    "from tensorflow.keras.layers import MaxPooling1D\n",
    "from tensorflow.keras.layers import SimpleRNN\n",
    "from tensorflow.keras.layers.experimental.preprocessing import TextVectorization\n",
    "from tensorflow.keras.models import Sequential\n",
    "from tensorflow.keras.preprocessing import text_dataset_from_directory\n",
    "from tensorflow.strings import regex_replace\n",
    "\n",
    "import matplotlib.pyplot as plt\n",
    "import numpy as np\n",
    "import os\n",
    "import shutil\n",
    "import zipfile"
   ]
  },
  {
   "cell_type": "code",
   "execution_count": 29,
   "id": "b9e3706b-3a57-462d-840c-6b37e4a1aec0",
   "metadata": {},
   "outputs": [],
   "source": [
    "# unzip the imdb dataset\n",
    "with zipfile.ZipFile('../data/imdb.zip', 'r') as zip_ref:\n",
    "    zip_ref.extractall('../data/imdb/')"
   ]
  },
  {
   "cell_type": "code",
   "execution_count": 2,
   "id": "50a0a68a-c963-4665-a239-7802ff15b18b",
   "metadata": {},
   "outputs": [
    {
     "name": "stdout",
     "output_type": "stream",
     "text": [
      "Found 25000 files belonging to 2 classes.\n",
      "Found 25000 files belonging to 2 classes.\n"
     ]
    }
   ],
   "source": [
    "# clean the data by removing linebreaks\n",
    "def prepareData(dir):\n",
    "    # read the directory of datapoints and labels into a Dataset object\n",
    "    data = text_dataset_from_directory(dir)\n",
    "    \n",
    "    # replace HTML linebreaks from the text with spaces\n",
    "    return data.map(lambda text, label: (regex_replace(text, '<br />', ' '), label))\n",
    "\n",
    "# read the directory into memory and clean the text\n",
    "trainData = prepareData('../data/imdb/train')\n",
    "testData = prepareData('../data/imdb/test')"
   ]
  },
  {
   "cell_type": "code",
   "execution_count": 4,
   "id": "ffef881e-1a62-44f0-8ba5-58e4eb528580",
   "metadata": {},
   "outputs": [
    {
     "name": "stdout",
     "output_type": "stream",
     "text": [
      "b'Good action and interesting plot. Having seen the original I must say it was an interesting improvement and showed more of the movie. Good cast .. meaningful acting.. although it would nice to see some more expansion in the action scenes rather than the background story. Fun movie to watch and keeps you alert all the time 7/10 is a right vote I think!'\n",
      "1\n"
     ]
    }
   ],
   "source": [
    "# randomly print a review and label\n",
    "for text_batch, label_batch in trainData.take(1):\n",
    "    print(text_batch.numpy()[0])\n",
    "    print(label_batch.numpy()[0]) # 0 = negative, 1 = positive"
   ]
  },
  {
   "cell_type": "markdown",
   "id": "b497f154-9ecf-48db-89d8-b19905c2d349",
   "metadata": {},
   "source": [
    "Next, we will run some experiments on small, comparable nets of some different types."
   ]
  },
  {
   "cell_type": "markdown",
   "id": "45e86ae5-ad9b-400c-b869-e0e530632897",
   "metadata": {},
   "source": [
    "#### Fully-Connected Net Experiments\n",
    "\n",
    "First, we create a layer that will vectorize our text into integer values corresponding to each word. This layer will be used in the upcoming experiments. Running this code block will do some preprocessing to customize the layer to our specific dataset.\n",
    "\n",
    "Then, we continue to build a net with this layer."
   ]
  },
  {
   "cell_type": "code",
   "execution_count": 5,
   "id": "d246cc0b-b163-4568-8b9b-b66f870286d2",
   "metadata": {},
   "outputs": [
    {
     "name": "stdout",
     "output_type": "stream",
     "text": [
      "Found 25000 files belonging to 2 classes.\n",
      "Found 25000 files belonging to 2 classes.\n",
      "WARNING:tensorflow:Please add `keras.layers.InputLayer` instead of `keras.Input` to Sequential model. `keras.Input` is intended to be used by Functional model.\n"
     ]
    }
   ],
   "source": [
    "# read the directory into memory and clean the text\n",
    "trainData = prepareData('../data/imdb/train')\n",
    "testData = prepareData('../data/imdb/test')\n",
    "\n",
    "# create a TextVectorization layer to turn input string into a sequence of integers,\n",
    "# each representing one token\n",
    "maxTokens = 1000\n",
    "vectorizeLayer = TextVectorization(max_tokens = maxTokens,\n",
    "                                   output_mode = 'int',\n",
    "                                   output_sequence_length = 100)\n",
    "\n",
    "# adapt() fits the TextVectorization layer to our text dataset. This is when the\n",
    "# max_tokens most common words (i.e. the vocabulary) are selected.\n",
    "trainText = trainData.map(lambda text, label: text)\n",
    "\n",
    "vectorizeLayer.adapt(trainText)\n",
    "\n",
    "model = Sequential()\n",
    "\n",
    "model.add(Input(shape=(1,), dtype = 'string'))\n",
    "\n",
    "# add layer to the model\n",
    "model.add(vectorizeLayer)\n",
    "\n",
    "# add an embedding layer to turn integers into fixed-length vectors\n",
    "model.add(Embedding(maxTokens + 1, 128))\n",
    "\n",
    "# add a dense layer\n",
    "model.add(Dense(64, activation = 'relu'))\n",
    "\n",
    "# add a dense layer\n",
    "model.add(Dense(64, activation = 'relu'))\n",
    "\n",
    "# add softmax classifier\n",
    "model.add(Dense(1, activation = 'sigmoid'))"
   ]
  },
  {
   "cell_type": "code",
   "execution_count": 6,
   "id": "8ced00f6-70ef-45a1-a14f-cc8ec1b92f09",
   "metadata": {},
   "outputs": [
    {
     "name": "stdout",
     "output_type": "stream",
     "text": [
      "Model: \"sequential\"\n",
      "_________________________________________________________________\n",
      "Layer (type)                 Output Shape              Param #   \n",
      "=================================================================\n",
      "text_vectorization (TextVect (None, 100)               0         \n",
      "_________________________________________________________________\n",
      "embedding (Embedding)        (None, 100, 128)          128128    \n",
      "_________________________________________________________________\n",
      "dense (Dense)                (None, 100, 64)           8256      \n",
      "_________________________________________________________________\n",
      "dense_1 (Dense)              (None, 100, 64)           4160      \n",
      "_________________________________________________________________\n",
      "dense_2 (Dense)              (None, 100, 1)            65        \n",
      "=================================================================\n",
      "Total params: 140,609\n",
      "Trainable params: 140,609\n",
      "Non-trainable params: 0\n",
      "_________________________________________________________________\n"
     ]
    }
   ],
   "source": [
    "model.compile(optimizer = 'adam', loss = 'binary_crossentropy', metrics = ['accuracy'])\n",
    "model.summary()"
   ]
  },
  {
   "cell_type": "code",
   "execution_count": 7,
   "id": "0d62b5b8-14c4-4b1c-bef6-30faa7985cc8",
   "metadata": {},
   "outputs": [
    {
     "name": "stdout",
     "output_type": "stream",
     "text": [
      "Epoch 1/10\n",
      "782/782 [==============================] - 20s 25ms/step - loss: 0.6866 - accuracy: 0.5350 - val_loss: 0.6858 - val_accuracy: 0.5377\n",
      "Epoch 2/10\n",
      "782/782 [==============================] - 16s 20ms/step - loss: 0.6853 - accuracy: 0.5401 - val_loss: 0.6862 - val_accuracy: 0.5301\n",
      "Epoch 3/10\n",
      "782/782 [==============================] - 16s 20ms/step - loss: 0.6852 - accuracy: 0.5398 - val_loss: 0.6857 - val_accuracy: 0.5376\n",
      "Epoch 4/10\n",
      "782/782 [==============================] - 16s 20ms/step - loss: 0.6851 - accuracy: 0.5403 - val_loss: 0.6859 - val_accuracy: 0.5374\n",
      "Epoch 5/10\n",
      "782/782 [==============================] - 16s 20ms/step - loss: 0.6851 - accuracy: 0.5403 - val_loss: 0.6859 - val_accuracy: 0.5377\n",
      "Epoch 6/10\n",
      "782/782 [==============================] - 16s 20ms/step - loss: 0.6850 - accuracy: 0.5406 - val_loss: 0.6858 - val_accuracy: 0.5377\n",
      "Epoch 7/10\n",
      "782/782 [==============================] - 16s 20ms/step - loss: 0.6850 - accuracy: 0.5404 - val_loss: 0.6859 - val_accuracy: 0.5377\n",
      "Epoch 8/10\n",
      "782/782 [==============================] - 16s 20ms/step - loss: 0.6849 - accuracy: 0.5407 - val_loss: 0.6861 - val_accuracy: 0.5375\n",
      "Epoch 9/10\n",
      "782/782 [==============================] - 16s 20ms/step - loss: 0.6849 - accuracy: 0.5406 - val_loss: 0.6859 - val_accuracy: 0.5377\n",
      "Epoch 10/10\n",
      "782/782 [==============================] - 16s 20ms/step - loss: 0.6849 - accuracy: 0.5409 - val_loss: 0.6857 - val_accuracy: 0.5380\n"
     ]
    },
    {
     "data": {
      "text/plain": [
       "<matplotlib.legend.Legend at 0x20af6e50c10>"
      ]
     },
     "execution_count": 7,
     "metadata": {},
     "output_type": "execute_result"
    },
    {
     "data": {
      "image/png": "[encoded data removed]",
      "text/plain": [
       "<Figure size 432x288 with 1 Axes>"
      ]
     },
     "metadata": {},
     "output_type": "display_data"
    }
   ],
   "source": [
    "epochs = 10\n",
    "\n",
    "H = model.fit(trainData, validation_data = testData, epochs = epochs)\n",
    "\n",
    "plt.style.use('ggplot')\n",
    "plt.figure()\n",
    "plt.plot(np.arange(0, epochs), H.history['loss'], label = 'train_loss')\n",
    "plt.plot(np.arange(0, epochs), H.history['val_loss'], label = 'val_loss')\n",
    "plt.plot(np.arange(0, epochs), H.history['accuracy'], label = 'train_acc')\n",
    "plt.plot(np.arange(0, epochs), H.history['val_accuracy'], label = 'val_acc')\n",
    "    \n",
    "# add labels and legend\n",
    "plt.title('Training Loss and Accuracy')\n",
    "plt.xlabel('Epoch #')\n",
    "plt.ylabel('Loss/Accuracy')\n",
    "plt.legend()"
   ]
  },
  {
   "cell_type": "code",
   "execution_count": 8,
   "id": "2ac17858-5a53-447b-a3d3-65bc83872b23",
   "metadata": {},
   "outputs": [
    {
     "name": "stdout",
     "output_type": "stream",
     "text": [
      "782/782 [==============================] - 7s 9ms/step - loss: 0.6857 - accuracy: 0.5380\n"
     ]
    },
    {
     "data": {
      "text/plain": [
       "[0.6857064962387085, 0.5380005240440369]"
      ]
     },
     "execution_count": 8,
     "metadata": {},
     "output_type": "execute_result"
    }
   ],
   "source": [
    "model.evaluate(testData)"
   ]
  },
  {
   "cell_type": "markdown",
   "id": "a1a69fc3-2e48-46ac-b423-b7e34ae3b8a5",
   "metadata": {},
   "source": [
    "Our results here, at 54% are only slightly better than randomly guessing, so this net does not seem very useful for this problem. This makes some sense -- why would a fully-connected net that merely looks at individual words really determine if some text is positive or negative?"
   ]
  },
  {
   "cell_type": "markdown",
   "id": "37aa1e01-bdc0-4ddc-aa40-950c4199d0cc",
   "metadata": {},
   "source": [
    "#### Convolutional Net Experiment\n",
    "\n",
    "A convolutional net would look at local structure, so let's try a small CNN."
   ]
  },
  {
   "cell_type": "code",
   "execution_count": 9,
   "id": "851cb088-de83-4b6d-9698-bc2511caec13",
   "metadata": {},
   "outputs": [
    {
     "name": "stdout",
     "output_type": "stream",
     "text": [
      "Found 25000 files belonging to 2 classes.\n",
      "Found 25000 files belonging to 2 classes.\n",
      "WARNING:tensorflow:Please add `keras.layers.InputLayer` instead of `keras.Input` to Sequential model. `keras.Input` is intended to be used by Functional model.\n"
     ]
    }
   ],
   "source": [
    "# read the directory into memory and clean the text\n",
    "trainData = prepareData('../data/imdb/train')\n",
    "testData = prepareData('../data/imdb/test')\n",
    "\n",
    "# create a TextVectorization layer to turn input string into a sequence of integers,\n",
    "# each representing one token\n",
    "maxTokens = 1000\n",
    "vectorizeLayer = TextVectorization(max_tokens = maxTokens,\n",
    "                                   output_mode = 'int',\n",
    "                                   output_sequence_length = 100)\n",
    "\n",
    "# adapt() fits the TextVectorization layer to our text dataset. This is when the\n",
    "# max_tokens most common words (i.e. the vocabulary) are selected.\n",
    "trainText = trainData.map(lambda text, label: text)\n",
    "\n",
    "vectorizeLayer.adapt(trainText)\n",
    "\n",
    "model = Sequential()\n",
    "\n",
    "model.add(Input(shape=(1,), dtype = 'string'))\n",
    "\n",
    "# add layer to the model\n",
    "model.add(vectorizeLayer)\n",
    "\n",
    "# add an embedding layer to turn integers into fixed-length vectors\n",
    "model.add(Embedding(maxTokens + 1, 128))\n",
    "\n",
    "# add a 1D convolutional layer with 64 filters of length 3\n",
    "model.add(Conv1D(64, 3, padding ='same', activation = 'relu'))\n",
    "\n",
    "# add a dense layer\n",
    "model.add(Dense(64, activation = 'relu'))\n",
    "\n",
    "# add softmax classifier\n",
    "model.add(Dense(1, activation = 'sigmoid'))"
   ]
  },
  {
   "cell_type": "code",
   "execution_count": 10,
   "id": "926d2e8c-4d36-452a-9691-562b063f2609",
   "metadata": {},
   "outputs": [
    {
     "name": "stdout",
     "output_type": "stream",
     "text": [
      "Model: \"sequential_1\"\n",
      "_________________________________________________________________\n",
      "Layer (type)                 Output Shape              Param #   \n",
      "=================================================================\n",
      "text_vectorization_1 (TextVe (None, 100)               0         \n",
      "_________________________________________________________________\n",
      "embedding_1 (Embedding)      (None, 100, 128)          128128    \n",
      "_________________________________________________________________\n",
      "conv1d (Conv1D)              (None, 100, 64)           24640     \n",
      "_________________________________________________________________\n",
      "dense_3 (Dense)              (None, 100, 64)           4160      \n",
      "_________________________________________________________________\n",
      "dense_4 (Dense)              (None, 100, 1)            65        \n",
      "=================================================================\n",
      "Total params: 156,993\n",
      "Trainable params: 156,993\n",
      "Non-trainable params: 0\n",
      "_________________________________________________________________\n"
     ]
    }
   ],
   "source": [
    "model.compile(optimizer = 'adam', loss = 'binary_crossentropy', metrics = ['accuracy'])\n",
    "model.summary()"
   ]
  },
  {
   "cell_type": "code",
   "execution_count": 11,
   "id": "754117ed-14c1-471b-9340-2dbb4553194f",
   "metadata": {},
   "outputs": [
    {
     "name": "stdout",
     "output_type": "stream",
     "text": [
      "Epoch 1/10\n",
      "782/782 [==============================] - 23s 20ms/step - loss: 0.6751 - accuracy: 0.5664 - val_loss: 0.6722 - val_accuracy: 0.5712\n",
      "Epoch 2/10\n",
      "782/782 [==============================] - 16s 20ms/step - loss: 0.6703 - accuracy: 0.5761 - val_loss: 0.6713 - val_accuracy: 0.5733\n",
      "Epoch 3/10\n",
      "782/782 [==============================] - 16s 21ms/step - loss: 0.6678 - accuracy: 0.5805 - val_loss: 0.6737 - val_accuracy: 0.5706\n",
      "Epoch 4/10\n",
      "782/782 [==============================] - 16s 20ms/step - loss: 0.6657 - accuracy: 0.5841 - val_loss: 0.6704 - val_accuracy: 0.5753\n",
      "Epoch 5/10\n",
      "782/782 [==============================] - 16s 20ms/step - loss: 0.6637 - accuracy: 0.5869 - val_loss: 0.6706 - val_accuracy: 0.5750\n",
      "Epoch 6/10\n",
      "782/782 [==============================] - 16s 20ms/step - loss: 0.6620 - accuracy: 0.5894 - val_loss: 0.6708 - val_accuracy: 0.5747\n",
      "Epoch 7/10\n",
      "782/782 [==============================] - 16s 20ms/step - loss: 0.6605 - accuracy: 0.5910 - val_loss: 0.6738 - val_accuracy: 0.5730\n",
      "Epoch 8/10\n",
      "782/782 [==============================] - 16s 20ms/step - loss: 0.6589 - accuracy: 0.5935 - val_loss: 0.6709 - val_accuracy: 0.5754\n",
      "Epoch 9/10\n",
      "782/782 [==============================] - 16s 20ms/step - loss: 0.6572 - accuracy: 0.5955 - val_loss: 0.6723 - val_accuracy: 0.5747\n",
      "Epoch 10/10\n",
      "782/782 [==============================] - 16s 20ms/step - loss: 0.6562 - accuracy: 0.5967 - val_loss: 0.6727 - val_accuracy: 0.5737\n"
     ]
    },
    {
     "data": {
      "text/plain": [
       "<matplotlib.legend.Legend at 0x2105804f6a0>"
      ]
     },
     "execution_count": 11,
     "metadata": {},
     "output_type": "execute_result"
    },
    {
     "data": {
      "image/png": "[encoded data removed]",
      "text/plain": [
       "<Figure size 432x288 with 1 Axes>"
      ]
     },
     "metadata": {},
     "output_type": "display_data"
    }
   ],
   "source": [
    "epochs = 10\n",
    "\n",
    "H = model.fit(trainData, validation_data = testData, epochs = epochs)\n",
    "\n",
    "plt.style.use('ggplot')\n",
    "plt.figure()\n",
    "plt.plot(np.arange(0, epochs), H.history['loss'], label = 'train_loss')\n",
    "plt.plot(np.arange(0, epochs), H.history['val_loss'], label = 'val_loss')\n",
    "plt.plot(np.arange(0, epochs), H.history['accuracy'], label = 'train_acc')\n",
    "plt.plot(np.arange(0, epochs), H.history['val_accuracy'], label = 'val_acc')\n",
    "    \n",
    "# add labels and legend\n",
    "plt.title('Training Loss and Accuracy')\n",
    "plt.xlabel('Epoch #')\n",
    "plt.ylabel('Loss/Accuracy')\n",
    "plt.legend()"
   ]
  },
  {
   "cell_type": "code",
   "execution_count": 12,
   "id": "54a87cb3-ea24-4d36-a279-9ef7df8f109a",
   "metadata": {},
   "outputs": [
    {
     "name": "stdout",
     "output_type": "stream",
     "text": [
      "782/782 [==============================] - 7s 9ms/step - loss: 0.6727 - accuracy: 0.5737\n"
     ]
    },
    {
     "data": {
      "text/plain": [
       "[0.6727234125137329, 0.5736883878707886]"
      ]
     },
     "execution_count": 12,
     "metadata": {},
     "output_type": "execute_result"
    }
   ],
   "source": [
    "model.evaluate(testData)"
   ]
  },
  {
   "cell_type": "code",
   "execution_count": 13,
   "id": "7e912684-38f7-4e13-94b7-4258fbaec0cf",
   "metadata": {},
   "outputs": [
    {
     "name": "stdout",
     "output_type": "stream",
     "text": [
      "Found 25000 files belonging to 2 classes.\n",
      "Found 25000 files belonging to 2 classes.\n",
      "Filter size is 1\n",
      "WARNING:tensorflow:Please add `keras.layers.InputLayer` instead of `keras.Input` to Sequential model. `keras.Input` is intended to be used by Functional model.\n",
      "Model: \"sequential_2\"\n",
      "_________________________________________________________________\n",
      "Layer (type)                 Output Shape              Param #   \n",
      "=================================================================\n",
      "text_vectorization_2 (TextVe (None, 100)               0         \n",
      "_________________________________________________________________\n",
      "embedding_2 (Embedding)      (None, 100, 128)          128128    \n",
      "_________________________________________________________________\n",
      "conv1d_1 (Conv1D)            (None, 100, 64)           8256      \n",
      "_________________________________________________________________\n",
      "dense_5 (Dense)              (None, 100, 64)           4160      \n",
      "_________________________________________________________________\n",
      "dense_6 (Dense)              (None, 100, 1)            65        \n",
      "=================================================================\n",
      "Total params: 140,609\n",
      "Trainable params: 140,609\n",
      "Non-trainable params: 0\n",
      "_________________________________________________________________\n",
      "Epoch 1/3\n",
      "782/782 [==============================] - 9s 11ms/step - loss: 0.6864 - accuracy: 0.5377\n",
      "Epoch 2/3\n",
      "782/782 [==============================] - 9s 11ms/step - loss: 0.6852 - accuracy: 0.5407\n",
      "Epoch 3/3\n",
      "782/782 [==============================] - 9s 11ms/step - loss: 0.6851 - accuracy: 0.5409\n",
      "782/782 [==============================] - 7s 9ms/step - loss: 0.6855 - accuracy: 0.5381\n",
      "Found 25000 files belonging to 2 classes.\n",
      "Found 25000 files belonging to 2 classes.\n",
      "Filter size is 3\n",
      "WARNING:tensorflow:Please add `keras.layers.InputLayer` instead of `keras.Input` to Sequential model. `keras.Input` is intended to be used by Functional model.\n",
      "Model: \"sequential_3\"\n",
      "_________________________________________________________________\n",
      "Layer (type)                 Output Shape              Param #   \n",
      "=================================================================\n",
      "text_vectorization_3 (TextVe (None, 100)               0         \n",
      "_________________________________________________________________\n",
      "embedding_3 (Embedding)      (None, 100, 128)          128128    \n",
      "_________________________________________________________________\n",
      "conv1d_2 (Conv1D)            (None, 100, 64)           24640     \n",
      "_________________________________________________________________\n",
      "dense_7 (Dense)              (None, 100, 64)           4160      \n",
      "_________________________________________________________________\n",
      "dense_8 (Dense)              (None, 100, 1)            65        \n",
      "=================================================================\n",
      "Total params: 156,993\n",
      "Trainable params: 156,993\n",
      "Non-trainable params: 0\n",
      "_________________________________________________________________\n",
      "Epoch 1/3\n",
      "782/782 [==============================] - 9s 11ms/step - loss: 0.6754 - accuracy: 0.5656\n",
      "Epoch 2/3\n",
      "782/782 [==============================] - 9s 11ms/step - loss: 0.6700 - accuracy: 0.5768\n",
      "Epoch 3/3\n",
      "782/782 [==============================] - 9s 11ms/step - loss: 0.6679 - accuracy: 0.5804\n",
      "782/782 [==============================] - 7s 9ms/step - loss: 0.6698 - accuracy: 0.5750\n",
      "Found 25000 files belonging to 2 classes.\n",
      "Found 25000 files belonging to 2 classes.\n",
      "Filter size is 5\n",
      "WARNING:tensorflow:Please add `keras.layers.InputLayer` instead of `keras.Input` to Sequential model. `keras.Input` is intended to be used by Functional model.\n",
      "Model: \"sequential_4\"\n",
      "_________________________________________________________________\n",
      "Layer (type)                 Output Shape              Param #   \n",
      "=================================================================\n",
      "text_vectorization_4 (TextVe (None, 100)               0         \n",
      "_________________________________________________________________\n",
      "embedding_4 (Embedding)      (None, 100, 128)          128128    \n",
      "_________________________________________________________________\n",
      "conv1d_3 (Conv1D)            (None, 100, 64)           41024     \n",
      "_________________________________________________________________\n",
      "dense_9 (Dense)              (None, 100, 64)           4160      \n",
      "_________________________________________________________________\n",
      "dense_10 (Dense)             (None, 100, 1)            65        \n",
      "=================================================================\n",
      "Total params: 173,377\n",
      "Trainable params: 173,377\n",
      "Non-trainable params: 0\n",
      "_________________________________________________________________\n",
      "Epoch 1/3\n",
      "782/782 [==============================] - 9s 11ms/step - loss: 0.6658 - accuracy: 0.5830\n",
      "Epoch 2/3\n",
      "782/782 [==============================] - 9s 11ms/step - loss: 0.6583 - accuracy: 0.5958\n",
      "Epoch 3/3\n",
      "782/782 [==============================] - 9s 11ms/step - loss: 0.6548 - accuracy: 0.6010\n",
      "782/782 [==============================] - 7s 9ms/step - loss: 0.6570 - accuracy: 0.5960\n",
      "Found 25000 files belonging to 2 classes.\n",
      "Found 25000 files belonging to 2 classes.\n",
      "Filter size is 7\n",
      "WARNING:tensorflow:Please add `keras.layers.InputLayer` instead of `keras.Input` to Sequential model. `keras.Input` is intended to be used by Functional model.\n",
      "Model: \"sequential_5\"\n",
      "_________________________________________________________________\n",
      "Layer (type)                 Output Shape              Param #   \n",
      "=================================================================\n",
      "text_vectorization_5 (TextVe (None, 100)               0         \n",
      "_________________________________________________________________\n",
      "embedding_5 (Embedding)      (None, 100, 128)          128128    \n",
      "_________________________________________________________________\n",
      "conv1d_4 (Conv1D)            (None, 100, 64)           57408     \n",
      "_________________________________________________________________\n",
      "dense_11 (Dense)             (None, 100, 64)           4160      \n",
      "_________________________________________________________________\n",
      "dense_12 (Dense)             (None, 100, 1)            65        \n",
      "=================================================================\n",
      "Total params: 189,761\n",
      "Trainable params: 189,761\n",
      "Non-trainable params: 0\n",
      "_________________________________________________________________\n",
      "Epoch 1/3\n",
      "782/782 [==============================] - 9s 12ms/step - loss: 0.6574 - accuracy: 0.5971\n",
      "Epoch 2/3\n",
      "782/782 [==============================] - 9s 11ms/step - loss: 0.6471 - accuracy: 0.6113\n",
      "Epoch 3/3\n",
      "782/782 [==============================] - 9s 11ms/step - loss: 0.6429 - accuracy: 0.6164\n",
      "782/782 [==============================] - 7s 9ms/step - loss: 0.6493 - accuracy: 0.6055\n",
      "Found 25000 files belonging to 2 classes.\n",
      "Found 25000 files belonging to 2 classes.\n",
      "Filter size is 9\n",
      "WARNING:tensorflow:Please add `keras.layers.InputLayer` instead of `keras.Input` to Sequential model. `keras.Input` is intended to be used by Functional model.\n",
      "Model: \"sequential_6\"\n",
      "_________________________________________________________________\n",
      "Layer (type)                 Output Shape              Param #   \n",
      "=================================================================\n",
      "text_vectorization_6 (TextVe (None, 100)               0         \n",
      "_________________________________________________________________\n",
      "embedding_6 (Embedding)      (None, 100, 128)          128128    \n",
      "_________________________________________________________________\n",
      "conv1d_5 (Conv1D)            (None, 100, 64)           73792     \n",
      "_________________________________________________________________\n",
      "dense_13 (Dense)             (None, 100, 64)           4160      \n",
      "_________________________________________________________________\n",
      "dense_14 (Dense)             (None, 100, 1)            65        \n",
      "=================================================================\n",
      "Total params: 206,145\n",
      "Trainable params: 206,145\n",
      "Non-trainable params: 0\n",
      "_________________________________________________________________\n",
      "Epoch 1/3\n",
      "782/782 [==============================] - 9s 11ms/step - loss: 0.6499 - accuracy: 0.6070\n",
      "Epoch 2/3\n",
      "782/782 [==============================] - 9s 11ms/step - loss: 0.6371 - accuracy: 0.6240\n",
      "Epoch 3/3\n",
      "782/782 [==============================] - 9s 11ms/step - loss: 0.6315 - accuracy: 0.6308\n",
      "782/782 [==============================] - 7s 9ms/step - loss: 0.6369 - accuracy: 0.6234\n",
      "Found 25000 files belonging to 2 classes.\n",
      "Found 25000 files belonging to 2 classes.\n",
      "Filter size is 11\n",
      "WARNING:tensorflow:Please add `keras.layers.InputLayer` instead of `keras.Input` to Sequential model. `keras.Input` is intended to be used by Functional model.\n",
      "Model: \"sequential_7\"\n",
      "_________________________________________________________________\n",
      "Layer (type)                 Output Shape              Param #   \n",
      "=================================================================\n",
      "text_vectorization_7 (TextVe (None, 100)               0         \n",
      "_________________________________________________________________\n",
      "embedding_7 (Embedding)      (None, 100, 128)          128128    \n",
      "_________________________________________________________________\n",
      "conv1d_6 (Conv1D)            (None, 100, 64)           90176     \n",
      "_________________________________________________________________\n",
      "dense_15 (Dense)             (None, 100, 64)           4160      \n",
      "_________________________________________________________________\n",
      "dense_16 (Dense)             (None, 100, 1)            65        \n",
      "=================================================================\n",
      "Total params: 222,529\n",
      "Trainable params: 222,529\n",
      "Non-trainable params: 0\n",
      "_________________________________________________________________\n",
      "Epoch 1/3\n",
      "782/782 [==============================] - 9s 11ms/step - loss: 0.6425 - accuracy: 0.6170\n",
      "Epoch 2/3\n",
      "782/782 [==============================] - 9s 11ms/step - loss: 0.6286 - accuracy: 0.6342\n",
      "Epoch 3/3\n",
      "782/782 [==============================] - 9s 11ms/step - loss: 0.6217 - accuracy: 0.6414\n",
      "782/782 [==============================] - 7s 9ms/step - loss: 0.6267 - accuracy: 0.6337\n",
      "Found 25000 files belonging to 2 classes.\n",
      "Found 25000 files belonging to 2 classes.\n",
      "Filter size is 13\n",
      "WARNING:tensorflow:Please add `keras.layers.InputLayer` instead of `keras.Input` to Sequential model. `keras.Input` is intended to be used by Functional model.\n",
      "Model: \"sequential_8\"\n",
      "_________________________________________________________________\n",
      "Layer (type)                 Output Shape              Param #   \n",
      "=================================================================\n",
      "text_vectorization_8 (TextVe (None, 100)               0         \n",
      "_________________________________________________________________\n",
      "embedding_8 (Embedding)      (None, 100, 128)          128128    \n",
      "_________________________________________________________________\n",
      "conv1d_7 (Conv1D)            (None, 100, 64)           106560    \n",
      "_________________________________________________________________\n",
      "dense_17 (Dense)             (None, 100, 64)           4160      \n",
      "_________________________________________________________________\n",
      "dense_18 (Dense)             (None, 100, 1)            65        \n",
      "=================================================================\n",
      "Total params: 238,913\n",
      "Trainable params: 238,913\n",
      "Non-trainable params: 0\n",
      "_________________________________________________________________\n",
      "Epoch 1/3\n",
      "782/782 [==============================] - 9s 11ms/step - loss: 0.6353 - accuracy: 0.6266\n",
      "Epoch 2/3\n",
      "782/782 [==============================] - 9s 11ms/step - loss: 0.6194 - accuracy: 0.6444\n",
      "Epoch 3/3\n",
      "782/782 [==============================] - 9s 11ms/step - loss: 0.6118 - accuracy: 0.6525\n",
      "782/782 [==============================] - 7s 9ms/step - loss: 0.6173 - accuracy: 0.6437\n",
      "Found 25000 files belonging to 2 classes.\n",
      "Found 25000 files belonging to 2 classes.\n",
      "Filter size is 15\n",
      "WARNING:tensorflow:Please add `keras.layers.InputLayer` instead of `keras.Input` to Sequential model. `keras.Input` is intended to be used by Functional model.\n",
      "Model: \"sequential_9\"\n",
      "_________________________________________________________________\n",
      "Layer (type)                 Output Shape              Param #   \n",
      "=================================================================\n",
      "text_vectorization_9 (TextVe (None, 100)               0         \n",
      "_________________________________________________________________\n",
      "embedding_9 (Embedding)      (None, 100, 128)          128128    \n",
      "_________________________________________________________________\n",
      "conv1d_8 (Conv1D)            (None, 100, 64)           122944    \n",
      "_________________________________________________________________\n",
      "dense_19 (Dense)             (None, 100, 64)           4160      \n",
      "_________________________________________________________________\n",
      "dense_20 (Dense)             (None, 100, 1)            65        \n",
      "=================================================================\n",
      "Total params: 255,297\n",
      "Trainable params: 255,297\n",
      "Non-trainable params: 0\n",
      "_________________________________________________________________\n",
      "Epoch 1/3\n",
      "782/782 [==============================] - 10s 12ms/step - loss: 0.6292 - accuracy: 0.6339\n",
      "Epoch 2/3\n",
      "782/782 [==============================] - 9s 12ms/step - loss: 0.6115 - accuracy: 0.6529\n",
      "Epoch 3/3\n",
      "782/782 [==============================] - 9s 12ms/step - loss: 0.6030 - accuracy: 0.6615\n",
      "782/782 [==============================] - 7s 9ms/step - loss: 0.6105 - accuracy: 0.6524\n",
      "Found 25000 files belonging to 2 classes.\n",
      "Found 25000 files belonging to 2 classes.\n",
      "Filter size is 17\n",
      "WARNING:tensorflow:Please add `keras.layers.InputLayer` instead of `keras.Input` to Sequential model. `keras.Input` is intended to be used by Functional model.\n",
      "Model: \"sequential_10\"\n",
      "_________________________________________________________________\n",
      "Layer (type)                 Output Shape              Param #   \n",
      "=================================================================\n",
      "text_vectorization_10 (TextV (None, 100)               0         \n",
      "_________________________________________________________________\n",
      "embedding_10 (Embedding)     (None, 100, 128)          128128    \n",
      "_________________________________________________________________\n",
      "conv1d_9 (Conv1D)            (None, 100, 64)           139328    \n",
      "_________________________________________________________________\n",
      "dense_21 (Dense)             (None, 100, 64)           4160      \n",
      "_________________________________________________________________\n",
      "dense_22 (Dense)             (None, 100, 1)            65        \n",
      "=================================================================\n",
      "Total params: 271,681\n",
      "Trainable params: 271,681\n",
      "Non-trainable params: 0\n",
      "_________________________________________________________________\n",
      "Epoch 1/3\n",
      "782/782 [==============================] - 9s 11ms/step - loss: 0.6233 - accuracy: 0.6403\n",
      "Epoch 2/3\n",
      "782/782 [==============================] - 9s 12ms/step - loss: 0.6042 - accuracy: 0.6606\n",
      "Epoch 3/3\n",
      "782/782 [==============================] - 9s 11ms/step - loss: 0.5949 - accuracy: 0.6691\n",
      "782/782 [==============================] - 7s 9ms/step - loss: 0.6071 - accuracy: 0.6597\n",
      "Found 25000 files belonging to 2 classes.\n",
      "Found 25000 files belonging to 2 classes.\n",
      "Filter size is 19\n",
      "WARNING:tensorflow:Please add `keras.layers.InputLayer` instead of `keras.Input` to Sequential model. `keras.Input` is intended to be used by Functional model.\n",
      "Model: \"sequential_11\"\n",
      "_________________________________________________________________\n",
      "Layer (type)                 Output Shape              Param #   \n",
      "=================================================================\n",
      "text_vectorization_11 (TextV (None, 100)               0         \n",
      "_________________________________________________________________\n",
      "embedding_11 (Embedding)     (None, 100, 128)          128128    \n",
      "_________________________________________________________________\n",
      "conv1d_10 (Conv1D)           (None, 100, 64)           155712    \n",
      "_________________________________________________________________\n",
      "dense_23 (Dense)             (None, 100, 64)           4160      \n",
      "_________________________________________________________________\n",
      "dense_24 (Dense)             (None, 100, 1)            65        \n",
      "=================================================================\n",
      "Total params: 288,065\n",
      "Trainable params: 288,065\n",
      "Non-trainable params: 0\n",
      "_________________________________________________________________\n",
      "Epoch 1/3\n",
      "782/782 [==============================] - 9s 11ms/step - loss: 0.6184 - accuracy: 0.6467\n",
      "Epoch 2/3\n",
      "782/782 [==============================] - 9s 12ms/step - loss: 0.5981 - accuracy: 0.6668\n",
      "Epoch 3/3\n",
      "782/782 [==============================] - 9s 12ms/step - loss: 0.5886 - accuracy: 0.6750\n",
      "782/782 [==============================] - 8s 9ms/step - loss: 0.5969 - accuracy: 0.6658\n"
     ]
    }
   ],
   "source": [
    "for filterSize in range(1,20,2):\n",
    "    # read the directory into memory and clean the text\n",
    "    trainData = prepareData('../data/imdb/train')\n",
    "    testData = prepareData('../data/imdb/test')\n",
    "\n",
    "    # create a TextVectorization layer to turn input string into a sequence of integers,\n",
    "    # each representing one token\n",
    "    maxTokens = 1000\n",
    "    vectorizeLayer = TextVectorization(max_tokens = maxTokens,\n",
    "                                       output_mode = 'int',\n",
    "                                       output_sequence_length = 100)\n",
    "\n",
    "    # adapt() fits the TextVectorization layer to our text dataset. This is when the\n",
    "    # max_tokens most common words (i.e. the vocabulary) are selected.\n",
    "    trainText = trainData.map(lambda text, label: text)\n",
    "\n",
    "    vectorizeLayer.adapt(trainText)\n",
    "    \n",
    "    print('Filter size is', filterSize)\n",
    "    \n",
    "    model = Sequential()\n",
    "\n",
    "    model.add(Input(shape=(1,), dtype = 'string'))\n",
    "\n",
    "    # add layer to the model\n",
    "    model.add(vectorizeLayer)\n",
    "\n",
    "    # add an embedding layer to turn integers into fixed-length vectors\n",
    "    model.add(Embedding(maxTokens + 1, 128))\n",
    "\n",
    "    # add a 1D convolutional layer with 64 filters of length 3\n",
    "    model.add(Conv1D(64, filterSize, padding ='same', activation = 'relu'))\n",
    "\n",
    "    # add a dense layer\n",
    "    model.add(Dense(64, activation = 'relu'))\n",
    "\n",
    "    # add softmax classifier\n",
    "    model.add(Dense(1, activation = 'sigmoid'))\n",
    "    \n",
    "    model.compile(optimizer = 'adam', loss = 'binary_crossentropy', metrics = ['accuracy'])\n",
    "    model.summary()\n",
    "    \n",
    "    model.fit(trainData, epochs = 3)\n",
    "    \n",
    "    model.evaluate(testData)"
   ]
  },
  {
   "cell_type": "code",
   "execution_count": 14,
   "id": "9a4bcd3f-92c3-4cab-8f38-b6a02855b8b6",
   "metadata": {},
   "outputs": [],
   "source": [
    "class LeNetReg:\n",
    "    # create the architecture\n",
    "    def build(classes):\n",
    "        # create a feedforward neural net\n",
    "        model = Sequential()\n",
    "\n",
    "        model.add(Input(shape=(1,), dtype = 'string'))\n",
    "        \n",
    "        # add layer to the model\n",
    "        model.add(vectorizeLayer)\n",
    "\n",
    "        # add an embedding layer to turn integers into fixed-length vectors\n",
    "        model.add(Embedding(maxTokens + 1, 128))\n",
    "        \n",
    "        # add a convolutional layer with 20 5x5 filters and a 2x2 max pooling layer\n",
    "        model.add(Conv1D(32, 20, padding = 'same'))\n",
    "        model.add(Activation('relu'))\n",
    "        \n",
    "        #model.add(MaxPooling1D(pool_size = 2, strides = 2))\n",
    "        \n",
    "        # add another convolutional layer with 50 5x5 filters and a 2x2 max pooling layer\n",
    "        model.add(Conv1D(64, 20, padding= 'same'))\n",
    "        model.add(Activation('relu'))\n",
    "        #model.add(MaxPooling1D(pool_size = 2, strides = 2))\n",
    "        \n",
    "        # add another convolutional layer\n",
    "        model.add(Conv1D(128, 20, padding = 'same'))\n",
    "        model.add(Activation('relu'))\n",
    "        \n",
    "        # add a fully-connected layer\n",
    "        model.add(Dense(500))\n",
    "        model.add(Activation('relu'))\n",
    "        model.add(Dropout(0.5))\n",
    "        \n",
    "        # add a softmax classifier\n",
    "        model.add(Dense(classes))\n",
    "        model.add(Activation('sigmoid'))\n",
    "        \n",
    "        # return the constructed model\n",
    "        return model"
   ]
  },
  {
   "cell_type": "code",
   "execution_count": 15,
   "id": "f105d6a2-fc13-4292-80c9-6a355b0eb566",
   "metadata": {},
   "outputs": [
    {
     "name": "stdout",
     "output_type": "stream",
     "text": [
      "Found 25000 files belonging to 2 classes.\n",
      "Found 25000 files belonging to 2 classes.\n",
      "WARNING:tensorflow:Please add `keras.layers.InputLayer` instead of `keras.Input` to Sequential model. `keras.Input` is intended to be used by Functional model.\n",
      "Model: \"sequential_12\"\n",
      "_________________________________________________________________\n",
      "Layer (type)                 Output Shape              Param #   \n",
      "=================================================================\n",
      "text_vectorization_12 (TextV (None, 100)               0         \n",
      "_________________________________________________________________\n",
      "embedding_12 (Embedding)     (None, 100, 128)          128128    \n",
      "_________________________________________________________________\n",
      "conv1d_11 (Conv1D)           (None, 100, 32)           81952     \n",
      "_________________________________________________________________\n",
      "activation (Activation)      (None, 100, 32)           0         \n",
      "_________________________________________________________________\n",
      "conv1d_12 (Conv1D)           (None, 100, 64)           41024     \n",
      "_________________________________________________________________\n",
      "activation_1 (Activation)    (None, 100, 64)           0         \n",
      "_________________________________________________________________\n",
      "conv1d_13 (Conv1D)           (None, 100, 128)          163968    \n",
      "_________________________________________________________________\n",
      "activation_2 (Activation)    (None, 100, 128)          0         \n",
      "_________________________________________________________________\n",
      "dense_25 (Dense)             (None, 100, 500)          64500     \n",
      "_________________________________________________________________\n",
      "activation_3 (Activation)    (None, 100, 500)          0         \n",
      "_________________________________________________________________\n",
      "dropout (Dropout)            (None, 100, 500)          0         \n",
      "_________________________________________________________________\n",
      "dense_26 (Dense)             (None, 100, 1)            501       \n",
      "_________________________________________________________________\n",
      "activation_4 (Activation)    (None, 100, 1)            0         \n",
      "=================================================================\n",
      "Total params: 480,073\n",
      "Trainable params: 480,073\n",
      "Non-trainable params: 0\n",
      "_________________________________________________________________\n"
     ]
    }
   ],
   "source": [
    "# read the directory into memory and clean the text\n",
    "trainData = prepareData('../data/imdb/train')\n",
    "testData = prepareData('../data/imdb/test')\n",
    "\n",
    "# create a TextVectorization layer to turn input string into a sequence of integers,\n",
    "# each representing one token\n",
    "maxTokens = 1000\n",
    "vectorizeLayer = TextVectorization(max_tokens = maxTokens,\n",
    "                                   output_mode = 'int',\n",
    "                                   output_sequence_length = 100)\n",
    "\n",
    "# adapt() fits the TextVectorization layer to our text dataset. This is when the\n",
    "# max_tokens most common words (i.e. the vocabulary) are selected.\n",
    "trainText = trainData.map(lambda text, label: text)\n",
    "\n",
    "vectorizeLayer.adapt(trainText)\n",
    "\n",
    "model = LeNetReg.build(1)\n",
    "model.compile(optimizer = 'adam', loss = 'binary_crossentropy', metrics = ['accuracy'])\n",
    "model.summary()"
   ]
  },
  {
   "cell_type": "code",
   "execution_count": 16,
   "id": "c67390a0-2b44-4910-81cd-3a94d472cf34",
   "metadata": {},
   "outputs": [
    {
     "name": "stdout",
     "output_type": "stream",
     "text": [
      "Epoch 1/10\n",
      "782/782 [==============================] - 18s 22ms/step - loss: 0.5658 - accuracy: 0.6943 - val_loss: 0.5285 - val_accuracy: 0.7257\n",
      "Epoch 2/10\n",
      "782/782 [==============================] - 18s 22ms/step - loss: 0.5075 - accuracy: 0.7464 - val_loss: 0.5369 - val_accuracy: 0.7242\n",
      "Epoch 3/10\n",
      "782/782 [==============================] - 18s 22ms/step - loss: 0.4819 - accuracy: 0.7642 - val_loss: 0.5156 - val_accuracy: 0.7356\n",
      "Epoch 4/10\n",
      "782/782 [==============================] - 18s 23ms/step - loss: 0.4505 - accuracy: 0.7833 - val_loss: 0.5347 - val_accuracy: 0.7319\n",
      "Epoch 5/10\n",
      "782/782 [==============================] - 17s 22ms/step - loss: 0.4136 - accuracy: 0.8069 - val_loss: 0.6468 - val_accuracy: 0.7124\n",
      "Epoch 6/10\n",
      "782/782 [==============================] - 17s 22ms/step - loss: 0.3629 - accuracy: 0.8344 - val_loss: 0.7195 - val_accuracy: 0.7101\n",
      "Epoch 7/10\n",
      "782/782 [==============================] - 17s 22ms/step - loss: 0.2989 - accuracy: 0.8682 - val_loss: 0.8769 - val_accuracy: 0.7105\n",
      "Epoch 8/10\n",
      "782/782 [==============================] - 18s 22ms/step - loss: 0.2330 - accuracy: 0.8996 - val_loss: 1.0290 - val_accuracy: 0.7029\n",
      "Epoch 9/10\n",
      "782/782 [==============================] - 17s 22ms/step - loss: 0.1775 - accuracy: 0.9241 - val_loss: 1.3090 - val_accuracy: 0.6943\n",
      "Epoch 10/10\n",
      "782/782 [==============================] - 17s 22ms/step - loss: 0.1347 - accuracy: 0.9430 - val_loss: 1.5737 - val_accuracy: 0.6976\n"
     ]
    },
    {
     "data": {
      "text/plain": [
       "<matplotlib.legend.Legend at 0x210cabc86a0>"
      ]
     },
     "execution_count": 16,
     "metadata": {},
     "output_type": "execute_result"
    },
    {
     "data": {
      "image/png": "[encoded data removed]",
      "text/plain": [
       "<Figure size 432x288 with 1 Axes>"
      ]
     },
     "metadata": {},
     "output_type": "display_data"
    }
   ],
   "source": [
    "epochs = 10\n",
    "\n",
    "H = model.fit(trainData, validation_data = testData, epochs = epochs)\n",
    "\n",
    "plt.style.use('ggplot')\n",
    "plt.figure()\n",
    "plt.plot(np.arange(0, epochs), H.history['loss'], label = 'train_loss')\n",
    "plt.plot(np.arange(0, epochs), H.history['val_loss'], label = 'val_loss')\n",
    "plt.plot(np.arange(0, epochs), H.history['accuracy'], label = 'train_acc')\n",
    "plt.plot(np.arange(0, epochs), H.history['val_accuracy'], label = 'val_acc')\n",
    "    \n",
    "# add labels and legend\n",
    "plt.title('Training Loss and Accuracy')\n",
    "plt.xlabel('Epoch #')\n",
    "plt.ylabel('Loss/Accuracy')\n",
    "plt.legend()"
   ]
  },
  {
   "cell_type": "code",
   "execution_count": 17,
   "id": "13de16cd-d281-427e-8393-6aede16cce96",
   "metadata": {},
   "outputs": [
    {
     "name": "stdout",
     "output_type": "stream",
     "text": [
      "782/782 [==============================] - 8s 10ms/step - loss: 1.5737 - accuracy: 0.6976\n"
     ]
    },
    {
     "data": {
      "text/plain": [
       "[1.5737346410751343, 0.6976348161697388]"
      ]
     },
     "execution_count": 17,
     "metadata": {},
     "output_type": "execute_result"
    }
   ],
   "source": [
    "model.evaluate(testData)"
   ]
  },
  {
   "cell_type": "markdown",
   "id": "d2b0f6f6-8dac-45cc-9bc9-549d05aa6328",
   "metadata": {},
   "source": [
    "#### Recurrent Net Experiments\n",
    "\n",
    "Here, let's try replacing one of the dense layers from the fully-connected net with a fully-connected recurrent layer and see how the results look."
   ]
  },
  {
   "cell_type": "code",
   "execution_count": 3,
   "id": "f0b9e6be-f940-47d2-a865-c862af73a865",
   "metadata": {},
   "outputs": [
    {
     "name": "stdout",
     "output_type": "stream",
     "text": [
      "Found 25000 files belonging to 2 classes.\n",
      "Found 25000 files belonging to 2 classes.\n",
      "WARNING:tensorflow:Please add `keras.layers.InputLayer` instead of `keras.Input` to Sequential model. `keras.Input` is intended to be used by Functional model.\n"
     ]
    }
   ],
   "source": [
    "# read the directory into memory and clean the text\n",
    "trainData = prepareData('../data/imdb/train')\n",
    "testData = prepareData('../data/imdb/test')\n",
    "\n",
    "# create a TextVectorization layer to turn input string into a sequence of integers,\n",
    "# each representing one token\n",
    "maxTokens = 1000\n",
    "vectorizeLayer = TextVectorization(max_tokens = maxTokens,\n",
    "                                   output_mode = 'int',\n",
    "                                   output_sequence_length = 100)\n",
    "\n",
    "# adapt() fits the TextVectorization layer to our text dataset. This is when the\n",
    "# max_tokens most common words (i.e. the vocabulary) are selected.\n",
    "trainText = trainData.map(lambda text, label: text)\n",
    "\n",
    "vectorizeLayer.adapt(trainText)\n",
    "\n",
    "model = Sequential()\n",
    "\n",
    "model.add(Input(shape=(1,), dtype = 'string'))\n",
    "\n",
    "# add layer to the model\n",
    "model.add(vectorizeLayer)\n",
    "\n",
    "# add an embedding layer to turn integers into fixed-length vectors\n",
    "model.add(Embedding(maxTokens + 1, 128))\n",
    "\n",
    "# add a fully-connected recurrent layer\n",
    "model.add(SimpleRNN(64))\n",
    "\n",
    "# add a dense layer\n",
    "model.add(Dense(64, activation = 'relu'))\n",
    "\n",
    "# add softmax classifier\n",
    "model.add(Dense(1, activation = 'sigmoid'))"
   ]
  },
  {
   "cell_type": "code",
   "execution_count": 4,
   "id": "538f835e-ff4d-4d7a-8c06-2a6e19f3f2bf",
   "metadata": {},
   "outputs": [
    {
     "name": "stdout",
     "output_type": "stream",
     "text": [
      "Model: \"sequential\"\n",
      "_________________________________________________________________\n",
      "Layer (type)                 Output Shape              Param #   \n",
      "=================================================================\n",
      "text_vectorization (TextVect (None, 100)               0         \n",
      "_________________________________________________________________\n",
      "embedding (Embedding)        (None, 100, 128)          128128    \n",
      "_________________________________________________________________\n",
      "simple_rnn (SimpleRNN)       (None, 64)                12352     \n",
      "_________________________________________________________________\n",
      "dense (Dense)                (None, 64)                4160      \n",
      "_________________________________________________________________\n",
      "dense_1 (Dense)              (None, 1)                 65        \n",
      "=================================================================\n",
      "Total params: 144,705\n",
      "Trainable params: 144,705\n",
      "Non-trainable params: 0\n",
      "_________________________________________________________________\n"
     ]
    }
   ],
   "source": [
    "model.compile(optimizer = 'adam', loss = 'binary_crossentropy', metrics = ['accuracy'])\n",
    "model.summary()"
   ]
  },
  {
   "cell_type": "code",
   "execution_count": 5,
   "id": "c31f958d-f264-407a-8327-120fa9cb6fc6",
   "metadata": {},
   "outputs": [
    {
     "name": "stdout",
     "output_type": "stream",
     "text": [
      "Epoch 1/10\n",
      "782/782 [==============================] - 114s 145ms/step - loss: 0.6978 - accuracy: 0.5102 - val_loss: 0.6972 - val_accuracy: 0.5200\n",
      "Epoch 2/10\n",
      "782/782 [==============================] - 113s 145ms/step - loss: 0.6846 - accuracy: 0.5514 - val_loss: 0.6564 - val_accuracy: 0.6192\n",
      "Epoch 3/10\n",
      "782/782 [==============================] - 113s 145ms/step - loss: 0.6797 - accuracy: 0.5668 - val_loss: 0.6917 - val_accuracy: 0.5332\n",
      "Epoch 4/10\n",
      "782/782 [==============================] - 113s 145ms/step - loss: 0.6684 - accuracy: 0.5845 - val_loss: 0.6709 - val_accuracy: 0.5812\n",
      "Epoch 5/10\n",
      "782/782 [==============================] - 113s 144ms/step - loss: 0.6670 - accuracy: 0.5881 - val_loss: 0.6932 - val_accuracy: 0.5436\n",
      "Epoch 6/10\n",
      "782/782 [==============================] - 112s 144ms/step - loss: 0.6731 - accuracy: 0.5656 - val_loss: 0.7054 - val_accuracy: 0.5326\n",
      "Epoch 7/10\n",
      "782/782 [==============================] - 113s 144ms/step - loss: 0.6579 - accuracy: 0.5914 - val_loss: 0.6939 - val_accuracy: 0.5665\n",
      "Epoch 8/10\n",
      "782/782 [==============================] - 113s 145ms/step - loss: 0.6348 - accuracy: 0.6339 - val_loss: 0.6870 - val_accuracy: 0.5985\n",
      "Epoch 9/10\n",
      "782/782 [==============================] - 113s 145ms/step - loss: 0.6319 - accuracy: 0.6281 - val_loss: 0.6451 - val_accuracy: 0.6213\n",
      "Epoch 10/10\n",
      "782/782 [==============================] - 113s 144ms/step - loss: 0.6371 - accuracy: 0.6244 - val_loss: 0.6935 - val_accuracy: 0.5422\n"
     ]
    },
    {
     "data": {
      "text/plain": [
       "<matplotlib.legend.Legend at 0x1d6dc2e1ee0>"
      ]
     },
     "execution_count": 5,
     "metadata": {},
     "output_type": "execute_result"
    },
    {
     "data": {
      "image/png": "[encoded data removed]",
      "text/plain": [
       "<Figure size 432x288 with 1 Axes>"
      ]
     },
     "metadata": {},
     "output_type": "display_data"
    }
   ],
   "source": [
    "epochs = 10\n",
    "\n",
    "H = model.fit(trainData, validation_data = testData, epochs = epochs)\n",
    "\n",
    "plt.style.use('ggplot')\n",
    "plt.figure()\n",
    "plt.plot(np.arange(0, epochs), H.history['loss'], label = 'train_loss')\n",
    "plt.plot(np.arange(0, epochs), H.history['val_loss'], label = 'val_loss')\n",
    "plt.plot(np.arange(0, epochs), H.history['accuracy'], label = 'train_acc')\n",
    "plt.plot(np.arange(0, epochs), H.history['val_accuracy'], label = 'val_acc')\n",
    "    \n",
    "# add labels and legend\n",
    "plt.title('Training Loss and Accuracy')\n",
    "plt.xlabel('Epoch #')\n",
    "plt.ylabel('Loss/Accuracy')\n",
    "plt.legend()"
   ]
  },
  {
   "cell_type": "code",
   "execution_count": 6,
   "id": "308b72a4-a74b-4a0c-8da5-87c37d72b986",
   "metadata": {},
   "outputs": [
    {
     "name": "stdout",
     "output_type": "stream",
     "text": [
      "782/782 [==============================] - 17s 22ms/step - loss: 0.6935 - accuracy: 0.5422\n"
     ]
    },
    {
     "data": {
      "text/plain": [
       "[0.6935092210769653, 0.5422000288963318]"
      ]
     },
     "execution_count": 6,
     "metadata": {},
     "output_type": "execute_result"
    }
   ],
   "source": [
    "model.evaluate(testData)"
   ]
  },
  {
   "cell_type": "markdown",
   "id": "138b1018-34c9-4e19-a616-fed4f1a340f6",
   "metadata": {},
   "source": [
    "As we see, the results are a little better than the fully connected net, but does not perform as well as some of the CNN experiments above."
   ]
  },
  {
   "cell_type": "code",
   "execution_count": 7,
   "id": "872991e5-b182-4cea-8eab-36ce12c7aff1",
   "metadata": {},
   "outputs": [
    {
     "name": "stdout",
     "output_type": "stream",
     "text": [
      "Found 25000 files belonging to 2 classes.\n",
      "Found 25000 files belonging to 2 classes.\n",
      "WARNING:tensorflow:Please add `keras.layers.InputLayer` instead of `keras.Input` to Sequential model. `keras.Input` is intended to be used by Functional model.\n"
     ]
    }
   ],
   "source": [
    "# read the directory into memory and clean the text\n",
    "trainData = prepareData('../data/imdb/train')\n",
    "testData = prepareData('../data/imdb/test')\n",
    "\n",
    "# create a TextVectorization layer to turn input string into a sequence of integers,\n",
    "# each representing one token\n",
    "maxTokens = 1000\n",
    "vectorizeLayer = TextVectorization(max_tokens = maxTokens,\n",
    "                                   output_mode = 'int',\n",
    "                                   output_sequence_length = 100)\n",
    "\n",
    "# adapt() fits the TextVectorization layer to our text dataset. This is when the\n",
    "# max_tokens most common words (i.e. the vocabulary) are selected.\n",
    "trainText = trainData.map(lambda text, label: text)\n",
    "\n",
    "vectorizeLayer.adapt(trainText)\n",
    "\n",
    "model = Sequential()\n",
    "\n",
    "model.add(Input(shape=(1,), dtype = 'string'))\n",
    "\n",
    "# add layer to the model\n",
    "model.add(vectorizeLayer)\n",
    "\n",
    "# add an embedding layer to turn integers into fixed-length vectors\n",
    "model.add(Embedding(maxTokens + 1, 128))\n",
    "\n",
    "# add a fully-connected recurrent layer\n",
    "model.add(Bidirectional(SimpleRNN(64)))\n",
    "\n",
    "# add a dense layer\n",
    "model.add(Dense(64, activation = 'relu'))\n",
    "\n",
    "# add softmax classifier\n",
    "model.add(Dense(1, activation = 'sigmoid'))"
   ]
  },
  {
   "cell_type": "code",
   "execution_count": 8,
   "id": "4b73dc2e-64ca-4072-a721-dc647ecf6f2d",
   "metadata": {},
   "outputs": [
    {
     "name": "stdout",
     "output_type": "stream",
     "text": [
      "Model: \"sequential_1\"\n",
      "_________________________________________________________________\n",
      "Layer (type)                 Output Shape              Param #   \n",
      "=================================================================\n",
      "text_vectorization_1 (TextVe (None, 100)               0         \n",
      "_________________________________________________________________\n",
      "embedding_1 (Embedding)      (None, 100, 128)          128128    \n",
      "_________________________________________________________________\n",
      "bidirectional (Bidirectional (None, 128)               24704     \n",
      "_________________________________________________________________\n",
      "dense_2 (Dense)              (None, 64)                8256      \n",
      "_________________________________________________________________\n",
      "dense_3 (Dense)              (None, 1)                 65        \n",
      "=================================================================\n",
      "Total params: 161,153\n",
      "Trainable params: 161,153\n",
      "Non-trainable params: 0\n",
      "_________________________________________________________________\n",
      "Epoch 1/10\n",
      "782/782 [==============================] - 210s 267ms/step - loss: 0.6951 - accuracy: 0.5205 - val_loss: 0.6827 - val_accuracy: 0.5532\n",
      "Epoch 2/10\n",
      "782/782 [==============================] - 209s 267ms/step - loss: 0.6537 - accuracy: 0.6076 - val_loss: 0.6825 - val_accuracy: 0.5652\n",
      "Epoch 3/10\n",
      "782/782 [==============================] - 210s 268ms/step - loss: 0.6411 - accuracy: 0.6268 - val_loss: 0.6082 - val_accuracy: 0.6695\n",
      "Epoch 4/10\n",
      "782/782 [==============================] - 209s 267ms/step - loss: 0.5909 - accuracy: 0.6861 - val_loss: 0.5550 - val_accuracy: 0.7251\n",
      "Epoch 5/10\n",
      "782/782 [==============================] - 210s 269ms/step - loss: 0.6067 - accuracy: 0.6741 - val_loss: 0.5953 - val_accuracy: 0.6935\n",
      "Epoch 6/10\n",
      "782/782 [==============================] - 210s 269ms/step - loss: 0.5682 - accuracy: 0.7119 - val_loss: 0.5731 - val_accuracy: 0.7138\n",
      "Epoch 7/10\n",
      "782/782 [==============================] - 209s 267ms/step - loss: 0.5861 - accuracy: 0.6979 - val_loss: 0.5946 - val_accuracy: 0.6866\n",
      "Epoch 8/10\n",
      "782/782 [==============================] - 210s 268ms/step - loss: 0.5697 - accuracy: 0.7119 - val_loss: 0.5693 - val_accuracy: 0.7098\n",
      "Epoch 9/10\n",
      "782/782 [==============================] - 210s 269ms/step - loss: 0.5588 - accuracy: 0.7141 - val_loss: 0.5921 - val_accuracy: 0.6775\n",
      "Epoch 10/10\n",
      "782/782 [==============================] - 210s 269ms/step - loss: 0.5401 - accuracy: 0.7315 - val_loss: 0.5461 - val_accuracy: 0.7264\n",
      "782/782 [==============================] - 28s 36ms/step - loss: 0.5461 - accuracy: 0.7264\n"
     ]
    },
    {
     "data": {
      "text/plain": [
       "[0.5461174845695496, 0.7264400124549866]"
      ]
     },
     "execution_count": 8,
     "metadata": {},
     "output_type": "execute_result"
    },
    {
     "data": {
      "image/png": "[encoded data removed]",
      "text/plain": [
       "<Figure size 432x288 with 1 Axes>"
      ]
     },
     "metadata": {},
     "output_type": "display_data"
    }
   ],
   "source": [
    "model.compile(optimizer = 'adam', loss = 'binary_crossentropy', metrics = ['accuracy'])\n",
    "model.summary()\n",
    "\n",
    "epochs = 10\n",
    "\n",
    "H = model.fit(trainData, validation_data = testData, epochs = epochs)\n",
    "\n",
    "plt.style.use('ggplot')\n",
    "plt.figure()\n",
    "plt.plot(np.arange(0, epochs), H.history['loss'], label = 'train_loss')\n",
    "plt.plot(np.arange(0, epochs), H.history['val_loss'], label = 'val_loss')\n",
    "plt.plot(np.arange(0, epochs), H.history['accuracy'], label = 'train_acc')\n",
    "plt.plot(np.arange(0, epochs), H.history['val_accuracy'], label = 'val_acc')\n",
    "    \n",
    "# add labels and legend\n",
    "plt.title('Training Loss and Accuracy')\n",
    "plt.xlabel('Epoch #')\n",
    "plt.ylabel('Loss/Accuracy')\n",
    "plt.legend()\n",
    "\n",
    "model.evaluate(testData)"
   ]
  },
  {
   "cell_type": "code",
   "execution_count": 9,
   "id": "65f93bfb-68f0-4a7b-bcc3-21d8c5e04598",
   "metadata": {},
   "outputs": [
    {
     "name": "stdout",
     "output_type": "stream",
     "text": [
      "[[0.05329067]]\n",
      "[[0.54913616]]\n",
      "[[0.87241584]]\n",
      "[[0.8720228]]\n",
      "[[0.74671763]]\n"
     ]
    }
   ],
   "source": [
    "print(model.predict(['Watching this film was the worst experience of my life and I would rather die than watch it again.']))\n",
    "\n",
    "print(model.predict(['The acting is only okay in this movie, but it has an amazing storyline, so I rate it as good but not great.']))\n",
    "\n",
    "print(model.predict(['Dodgeball is my brother\\'s favorite movie, but I hate it']))\n",
    "\n",
    "print(model.predict(['Dodgeball is my brother\\'s favorite movie and it has its moments, but I think the comedy is sophomoric and crude. The acting is great, but the writing is subpar. Overall, I would rate this movie 2/10. It is terrible.']))\n",
    "\n",
    "print(model.predict(['I love Nicholas Cage, but this movie is horrible. NOT THE BEES.']))"
   ]
  },
  {
   "cell_type": "markdown",
   "id": "3bb1e025-b5c9-42e8-885d-8c854880ac0a",
   "metadata": {},
   "source": [
    "# Lecture 23 - Long Short Term Memory (LSTM)\n",
    "\n",
    "The recurrent neurons in RNNs have **short-term memory** since they explicitly process the activations from the previous timestep, which inherently depends on the previous timestep's activations, and so on. However, this short-term memory is very short: the data from multiple timesteps back become less and less influential, and this drop-off is very quick. This is not great for problems in natural language processing (NLP) tasks, such as sentiment analysis, since the meaning behind certain words (e.g. pronouns) may depend on other words far away from the original word. This long-distance dependence is not learnable very effectively by RNNs. The problem is even worse for audio analysis or speech recognition because the sequences are far longer since audio data is very dense in time.\n",
    "\n",
    "**Long** short term memory units (**LSTMs**) are similar to recurrent units in that they process sequence data in a neural architecture with backward connections in order to preserve short-term memory, but they are designed to encode longer-term dependencies than recurrent units. The general idea is that LSTMs work as memory units that can decide if and when to remember older activations in a way that is connected in a differentiable way to the loss function, permitting backpropagation to propagate gradients through the LSTM units. These gradients, if strong enough, will trigger the LSTM units to *save* information."
   ]
  },
  {
   "cell_type": "markdown",
   "id": "41535e9d-8111-4c7a-bcc6-d57cbfac612b",
   "metadata": {},
   "source": [
    "## Experiment With LSTM\n",
    "\n",
    "These experiments still correspond to the IMDB movie review data, but we use LSTM units rather than simple recurrent units."
   ]
  },
  {
   "cell_type": "code",
   "execution_count": 10,
   "id": "39491b76-02fb-4abc-af73-1e7b35806d44",
   "metadata": {},
   "outputs": [
    {
     "name": "stdout",
     "output_type": "stream",
     "text": [
      "Found 25000 files belonging to 2 classes.\n",
      "Found 25000 files belonging to 2 classes.\n",
      "WARNING:tensorflow:Please add `keras.layers.InputLayer` instead of `keras.Input` to Sequential model. `keras.Input` is intended to be used by Functional model.\n"
     ]
    }
   ],
   "source": [
    "# read the directory into memory and clean the text\n",
    "trainData = prepareData('../data/imdb/train')\n",
    "testData = prepareData('../data/imdb/test')\n",
    "\n",
    "# create a TextVectorization layer to turn input string into a sequence of integers,\n",
    "# each representing one token\n",
    "maxTokens = 1000\n",
    "vectorizeLayer = TextVectorization(max_tokens = maxTokens,\n",
    "                                   output_mode = 'int',\n",
    "                                   output_sequence_length = 100)\n",
    "\n",
    "# adapt() fits the TextVectorization layer to our text dataset. This is when the\n",
    "# max_tokens most common words (i.e. the vocabulary) are selected.\n",
    "trainText = trainData.map(lambda text, label: text)\n",
    "\n",
    "vectorizeLayer.adapt(trainText)\n",
    "\n",
    "model = Sequential()\n",
    "\n",
    "model.add(Input(shape=(1,), dtype = 'string'))\n",
    "\n",
    "# add layer to the model\n",
    "model.add(vectorizeLayer)\n",
    "\n",
    "# add an embedding layer to turn integers into fixed-length vectors\n",
    "model.add(Embedding(maxTokens + 1, 128))\n",
    "\n",
    "# add a fully-connected recurrent layer\n",
    "model.add(LSTM(64))\n",
    "\n",
    "# add a dense layer\n",
    "model.add(Dense(64, activation = 'relu'))\n",
    "model.add(Dropout(0.5))\n",
    "\n",
    "# add softmax classifier\n",
    "model.add(Dense(1, activation = 'sigmoid'))"
   ]
  },
  {
   "cell_type": "code",
   "execution_count": 11,
   "id": "30ad1c0f-ac49-4edc-862d-355e43379541",
   "metadata": {},
   "outputs": [
    {
     "name": "stdout",
     "output_type": "stream",
     "text": [
      "Model: \"sequential_2\"\n",
      "_________________________________________________________________\n",
      "Layer (type)                 Output Shape              Param #   \n",
      "=================================================================\n",
      "text_vectorization_2 (TextVe (None, 100)               0         \n",
      "_________________________________________________________________\n",
      "embedding_2 (Embedding)      (None, 100, 128)          128128    \n",
      "_________________________________________________________________\n",
      "lstm (LSTM)                  (None, 64)                49408     \n",
      "_________________________________________________________________\n",
      "dense_4 (Dense)              (None, 64)                4160      \n",
      "_________________________________________________________________\n",
      "dropout (Dropout)            (None, 64)                0         \n",
      "_________________________________________________________________\n",
      "dense_5 (Dense)              (None, 1)                 65        \n",
      "=================================================================\n",
      "Total params: 181,761\n",
      "Trainable params: 181,761\n",
      "Non-trainable params: 0\n",
      "_________________________________________________________________\n"
     ]
    }
   ],
   "source": [
    "model.compile(optimizer = 'adam', loss = 'binary_crossentropy', metrics = ['accuracy'])\n",
    "model.summary()"
   ]
  },
  {
   "cell_type": "code",
   "execution_count": 12,
   "id": "21ec9c45-25b9-4921-a148-dd96cca7f87c",
   "metadata": {},
   "outputs": [
    {
     "name": "stdout",
     "output_type": "stream",
     "text": [
      "Epoch 1/10\n",
      "782/782 [==============================] - 26s 24ms/step - loss: 0.5527 - accuracy: 0.7136 - val_loss: 0.4501 - val_accuracy: 0.7832\n",
      "Epoch 2/10\n",
      "782/782 [==============================] - 19s 24ms/step - loss: 0.4517 - accuracy: 0.7939 - val_loss: 0.4653 - val_accuracy: 0.7786\n",
      "Epoch 3/10\n",
      "782/782 [==============================] - 19s 24ms/step - loss: 0.4212 - accuracy: 0.8096 - val_loss: 0.4470 - val_accuracy: 0.7852\n",
      "Epoch 4/10\n",
      "782/782 [==============================] - 19s 24ms/step - loss: 0.3963 - accuracy: 0.8222 - val_loss: 0.4729 - val_accuracy: 0.7975\n",
      "Epoch 5/10\n",
      "782/782 [==============================] - 19s 24ms/step - loss: 0.3717 - accuracy: 0.8372 - val_loss: 0.4823 - val_accuracy: 0.7844\n",
      "Epoch 6/10\n",
      "782/782 [==============================] - 19s 24ms/step - loss: 0.3532 - accuracy: 0.8452 - val_loss: 0.5049 - val_accuracy: 0.7896\n",
      "Epoch 7/10\n",
      "782/782 [==============================] - 19s 24ms/step - loss: 0.3364 - accuracy: 0.8541 - val_loss: 0.5114 - val_accuracy: 0.7825\n",
      "Epoch 8/10\n",
      "782/782 [==============================] - 19s 24ms/step - loss: 0.3179 - accuracy: 0.8630 - val_loss: 0.5267 - val_accuracy: 0.7937\n",
      "Epoch 9/10\n",
      "782/782 [==============================] - 19s 24ms/step - loss: 0.3112 - accuracy: 0.8645 - val_loss: 0.5599 - val_accuracy: 0.7812\n",
      "Epoch 10/10\n",
      "782/782 [==============================] - 19s 24ms/step - loss: 0.3003 - accuracy: 0.8706 - val_loss: 0.5480 - val_accuracy: 0.7666\n"
     ]
    },
    {
     "data": {
      "text/plain": [
       "<matplotlib.legend.Legend at 0x1dc5a949580>"
      ]
     },
     "execution_count": 12,
     "metadata": {},
     "output_type": "execute_result"
    },
    {
     "data": {
      "image/png": "[encoded data removed]",
      "text/plain": [
       "<Figure size 432x288 with 1 Axes>"
      ]
     },
     "metadata": {},
     "output_type": "display_data"
    }
   ],
   "source": [
    "epochs = 10\n",
    "\n",
    "H = model.fit(trainData, validation_data = testData, epochs = epochs)\n",
    "\n",
    "plt.style.use('ggplot')\n",
    "plt.figure()\n",
    "plt.plot(np.arange(0, epochs), H.history['loss'], label = 'train_loss')\n",
    "plt.plot(np.arange(0, epochs), H.history['val_loss'], label = 'val_loss')\n",
    "plt.plot(np.arange(0, epochs), H.history['accuracy'], label = 'train_acc')\n",
    "plt.plot(np.arange(0, epochs), H.history['val_accuracy'], label = 'val_acc')\n",
    "    \n",
    "# add labels and legend\n",
    "plt.title('Training Loss and Accuracy')\n",
    "plt.xlabel('Epoch #')\n",
    "plt.ylabel('Loss/Accuracy')\n",
    "plt.legend()"
   ]
  },
  {
   "cell_type": "code",
   "execution_count": 13,
   "id": "26871166-7979-4e13-b1d7-b61af8571623",
   "metadata": {},
   "outputs": [
    {
     "name": "stdout",
     "output_type": "stream",
     "text": [
      "782/782 [==============================] - 8s 10ms/step - loss: 0.5480 - accuracy: 0.7666\n"
     ]
    },
    {
     "data": {
      "text/plain": [
       "[0.5480121374130249, 0.7666400074958801]"
      ]
     },
     "execution_count": 13,
     "metadata": {},
     "output_type": "execute_result"
    }
   ],
   "source": [
    "model.evaluate(testData)"
   ]
  },
  {
   "cell_type": "markdown",
   "id": "bd8148dd-d2c2-4e14-9428-c398bc00a54a",
   "metadata": {},
   "source": [
    "Performance improved versus simple recurrent net! But there is some overfitting, so let's try dropout."
   ]
  },
  {
   "cell_type": "code",
   "execution_count": 14,
   "id": "b1d8518e-a7e6-4a8f-b0e4-62d4f7c0de96",
   "metadata": {},
   "outputs": [
    {
     "name": "stdout",
     "output_type": "stream",
     "text": [
      "Found 25000 files belonging to 2 classes.\n",
      "Found 25000 files belonging to 2 classes.\n",
      "WARNING:tensorflow:Please add `keras.layers.InputLayer` instead of `keras.Input` to Sequential model. `keras.Input` is intended to be used by Functional model.\n"
     ]
    }
   ],
   "source": [
    "# read the directory into memory and clean the text\n",
    "trainData = prepareData('../data/imdb/train')\n",
    "testData = prepareData('../data/imdb/test')\n",
    "\n",
    "# create a TextVectorization layer to turn input string into a sequence of integers,\n",
    "# each representing one token\n",
    "maxTokens = 1000\n",
    "vectorizeLayer = TextVectorization(max_tokens = maxTokens,\n",
    "                                   output_mode = 'int',\n",
    "                                   output_sequence_length = 100)\n",
    "\n",
    "# adapt() fits the TextVectorization layer to our text dataset. This is when the\n",
    "# max_tokens most common words (i.e. the vocabulary) are selected.\n",
    "trainText = trainData.map(lambda text, label: text)\n",
    "\n",
    "vectorizeLayer.adapt(trainText)\n",
    "\n",
    "model = Sequential()\n",
    "\n",
    "model.add(Input(shape=(1,), dtype = 'string'))\n",
    "\n",
    "# add layer to the model\n",
    "model.add(vectorizeLayer)\n",
    "\n",
    "# add an embedding layer to turn integers into fixed-length vectors\n",
    "model.add(Embedding(maxTokens + 1, 128))\n",
    "\n",
    "# add a fully-connected recurrent layer\n",
    "model.add(LSTM(64))\n",
    "model.add(Dropout(0.5))\n",
    "\n",
    "# add a dense layer\n",
    "model.add(Dense(64, activation = 'relu'))\n",
    "model.add(Dropout(0.5))\n",
    "\n",
    "# add softmax classifier\n",
    "model.add(Dense(1, activation = 'sigmoid'))"
   ]
  },
  {
   "cell_type": "code",
   "execution_count": 15,
   "id": "2f06e9e5-1bb0-46ab-b8c5-5af19fed4e66",
   "metadata": {},
   "outputs": [
    {
     "name": "stdout",
     "output_type": "stream",
     "text": [
      "Model: \"sequential_3\"\n",
      "_________________________________________________________________\n",
      "Layer (type)                 Output Shape              Param #   \n",
      "=================================================================\n",
      "text_vectorization_3 (TextVe (None, 100)               0         \n",
      "_________________________________________________________________\n",
      "embedding_3 (Embedding)      (None, 100, 128)          128128    \n",
      "_________________________________________________________________\n",
      "lstm_1 (LSTM)                (None, 64)                49408     \n",
      "_________________________________________________________________\n",
      "dropout_1 (Dropout)          (None, 64)                0         \n",
      "_________________________________________________________________\n",
      "dense_6 (Dense)              (None, 64)                4160      \n",
      "_________________________________________________________________\n",
      "dropout_2 (Dropout)          (None, 64)                0         \n",
      "_________________________________________________________________\n",
      "dense_7 (Dense)              (None, 1)                 65        \n",
      "=================================================================\n",
      "Total params: 181,761\n",
      "Trainable params: 181,761\n",
      "Non-trainable params: 0\n",
      "_________________________________________________________________\n"
     ]
    }
   ],
   "source": [
    "model.compile(optimizer = 'adam', loss = 'binary_crossentropy', metrics = ['accuracy'])\n",
    "model.summary()"
   ]
  },
  {
   "cell_type": "code",
   "execution_count": 16,
   "id": "a5985de9-9787-497b-854a-1281801f732d",
   "metadata": {},
   "outputs": [
    {
     "name": "stdout",
     "output_type": "stream",
     "text": [
      "Epoch 1/10\n",
      "782/782 [==============================] - 20s 25ms/step - loss: 0.5810 - accuracy: 0.6832 - val_loss: 0.4766 - val_accuracy: 0.7826\n",
      "Epoch 2/10\n",
      "782/782 [==============================] - 19s 25ms/step - loss: 0.4561 - accuracy: 0.7928 - val_loss: 0.4537 - val_accuracy: 0.7847\n",
      "Epoch 3/10\n",
      "782/782 [==============================] - 19s 25ms/step - loss: 0.4276 - accuracy: 0.8090 - val_loss: 0.4535 - val_accuracy: 0.7796\n",
      "Epoch 4/10\n",
      "782/782 [==============================] - 19s 25ms/step - loss: 0.4026 - accuracy: 0.8218 - val_loss: 0.4564 - val_accuracy: 0.7842\n",
      "Epoch 5/10\n",
      "782/782 [==============================] - 19s 25ms/step - loss: 0.3777 - accuracy: 0.8361 - val_loss: 0.4706 - val_accuracy: 0.7837\n",
      "Epoch 6/10\n",
      "782/782 [==============================] - 19s 25ms/step - loss: 0.3618 - accuracy: 0.8443 - val_loss: 0.5199 - val_accuracy: 0.7743\n",
      "Epoch 7/10\n",
      "782/782 [==============================] - 19s 25ms/step - loss: 0.3450 - accuracy: 0.8540 - val_loss: 0.4981 - val_accuracy: 0.7724\n",
      "Epoch 8/10\n",
      "782/782 [==============================] - 19s 25ms/step - loss: 0.3334 - accuracy: 0.8592 - val_loss: 0.4936 - val_accuracy: 0.7804\n",
      "Epoch 9/10\n",
      "782/782 [==============================] - 19s 25ms/step - loss: 0.3248 - accuracy: 0.8647 - val_loss: 0.5068 - val_accuracy: 0.7750\n",
      "Epoch 10/10\n",
      "782/782 [==============================] - 19s 25ms/step - loss: 0.3165 - accuracy: 0.8684 - val_loss: 0.5281 - val_accuracy: 0.7808\n"
     ]
    },
    {
     "data": {
      "text/plain": [
       "<matplotlib.legend.Legend at 0x1d6e5892100>"
      ]
     },
     "execution_count": 16,
     "metadata": {},
     "output_type": "execute_result"
    },
    {
     "data": {
      "image/png": "[encoded data removed]",
      "text/plain": [
       "<Figure size 432x288 with 1 Axes>"
      ]
     },
     "metadata": {},
     "output_type": "display_data"
    }
   ],
   "source": [
    "epochs = 10\n",
    "\n",
    "H = model.fit(trainData, validation_data = testData, epochs = epochs)\n",
    "\n",
    "plt.style.use('ggplot')\n",
    "plt.figure()\n",
    "plt.plot(np.arange(0, epochs), H.history['loss'], label = 'train_loss')\n",
    "plt.plot(np.arange(0, epochs), H.history['val_loss'], label = 'val_loss')\n",
    "plt.plot(np.arange(0, epochs), H.history['accuracy'], label = 'train_acc')\n",
    "plt.plot(np.arange(0, epochs), H.history['val_accuracy'], label = 'val_acc')\n",
    "    \n",
    "# add labels and legend\n",
    "plt.title('Training Loss and Accuracy')\n",
    "plt.xlabel('Epoch #')\n",
    "plt.ylabel('Loss/Accuracy')\n",
    "plt.legend()"
   ]
  },
  {
   "cell_type": "code",
   "execution_count": 17,
   "id": "583f9524-b5b3-4867-bce6-2acd3e2d47f9",
   "metadata": {},
   "outputs": [
    {
     "name": "stdout",
     "output_type": "stream",
     "text": [
      "782/782 [==============================] - 8s 10ms/step - loss: 0.5281 - accuracy: 0.7808\n"
     ]
    },
    {
     "data": {
      "text/plain": [
       "[0.5281499624252319, 0.7808399796485901]"
      ]
     },
     "execution_count": 17,
     "metadata": {},
     "output_type": "execute_result"
    }
   ],
   "source": [
    "model.evaluate(testData)"
   ]
  },
  {
   "cell_type": "code",
   "execution_count": 18,
   "id": "88e7bbe0-3bce-43cf-b88d-4d08c4ab8f88",
   "metadata": {
    "tags": []
   },
   "outputs": [
    {
     "name": "stdout",
     "output_type": "stream",
     "text": [
      "Found 25000 files belonging to 2 classes.\n",
      "Found 25000 files belonging to 2 classes.\n",
      "WARNING:tensorflow:Please add `keras.layers.InputLayer` instead of `keras.Input` to Sequential model. `keras.Input` is intended to be used by Functional model.\n"
     ]
    }
   ],
   "source": [
    "# read the directory into memory and clean the text\n",
    "trainData = prepareData('../data/imdb/train')\n",
    "testData = prepareData('../data/imdb/test')\n",
    "\n",
    "# create a TextVectorization layer to turn input string into a sequence of integers,\n",
    "# each representing one token\n",
    "maxTokens = 1000\n",
    "vectorizeLayer = TextVectorization(max_tokens = maxTokens,\n",
    "                                   output_mode = 'int',\n",
    "                                   output_sequence_length = 100)\n",
    "\n",
    "# adapt() fits the TextVectorization layer to our text dataset. This is when the\n",
    "# the vocabulary is selected.\n",
    "trainText = trainData.map(lambda text, label: text)\n",
    "\n",
    "vectorizeLayer.adapt(trainText)\n",
    "\n",
    "model = Sequential()\n",
    "\n",
    "model.add(Input(shape=(1,), dtype = 'string'))\n",
    "\n",
    "# add layer to the model\n",
    "model.add(vectorizeLayer)\n",
    "\n",
    "# add an embedding layer to turn integers into fixed-length vectors\n",
    "model.add(Embedding(maxTokens + 1, 128))\n",
    "\n",
    "# add a fully-connected recurrent layer\n",
    "model.add(LSTM(64, return_sequences = True))\n",
    "\n",
    "# add a fully-connected recurrent layer\n",
    "model.add(LSTM(64))\n",
    "\n",
    "# add a dense layer\n",
    "model.add(Dense(64, activation = 'relu'))\n",
    "model.add(Dropout(0.5))\n",
    "\n",
    "# add softmax classifier\n",
    "model.add(Dense(1, activation = 'sigmoid'))"
   ]
  },
  {
   "cell_type": "code",
   "execution_count": 19,
   "id": "9924eaa6-10c0-47dd-98f4-60d54a4c3404",
   "metadata": {
    "tags": []
   },
   "outputs": [
    {
     "name": "stdout",
     "output_type": "stream",
     "text": [
      "Model: \"sequential_4\"\n",
      "_________________________________________________________________\n",
      "Layer (type)                 Output Shape              Param #   \n",
      "=================================================================\n",
      "text_vectorization_4 (TextVe (None, 100)               0         \n",
      "_________________________________________________________________\n",
      "embedding_4 (Embedding)      (None, 100, 128)          128128    \n",
      "_________________________________________________________________\n",
      "lstm_2 (LSTM)                (None, 100, 64)           49408     \n",
      "_________________________________________________________________\n",
      "lstm_3 (LSTM)                (None, 64)                33024     \n",
      "_________________________________________________________________\n",
      "dense_8 (Dense)              (None, 64)                4160      \n",
      "_________________________________________________________________\n",
      "dropout_3 (Dropout)          (None, 64)                0         \n",
      "_________________________________________________________________\n",
      "dense_9 (Dense)              (None, 1)                 65        \n",
      "=================================================================\n",
      "Total params: 214,785\n",
      "Trainable params: 214,785\n",
      "Non-trainable params: 0\n",
      "_________________________________________________________________\n"
     ]
    }
   ],
   "source": [
    "model.compile(optimizer = 'adam', loss = 'binary_crossentropy', metrics = ['accuracy'])\n",
    "model.summary()"
   ]
  },
  {
   "cell_type": "code",
   "execution_count": 20,
   "id": "a225ced3-1490-443d-8ef2-16b72489f50b",
   "metadata": {
    "tags": []
   },
   "outputs": [
    {
     "name": "stdout",
     "output_type": "stream",
     "text": [
      "Epoch 1/10\n",
      "782/782 [==============================] - 26s 32ms/step - loss: 0.5914 - accuracy: 0.6781 - val_loss: 0.4765 - val_accuracy: 0.7781\n",
      "Epoch 2/10\n",
      "782/782 [==============================] - 25s 31ms/step - loss: 0.4586 - accuracy: 0.7927 - val_loss: 0.4388 - val_accuracy: 0.7912\n",
      "Epoch 3/10\n",
      "782/782 [==============================] - 25s 31ms/step - loss: 0.4279 - accuracy: 0.8097 - val_loss: 0.4319 - val_accuracy: 0.7999\n",
      "Epoch 4/10\n",
      "782/782 [==============================] - 25s 31ms/step - loss: 0.4024 - accuracy: 0.8209 - val_loss: 0.4280 - val_accuracy: 0.8014\n",
      "Epoch 5/10\n",
      "782/782 [==============================] - 25s 31ms/step - loss: 0.3813 - accuracy: 0.8294 - val_loss: 0.4364 - val_accuracy: 0.7933\n",
      "Epoch 6/10\n",
      "782/782 [==============================] - 25s 31ms/step - loss: 0.3603 - accuracy: 0.8443 - val_loss: 0.4571 - val_accuracy: 0.7996\n",
      "Epoch 7/10\n",
      "782/782 [==============================] - 25s 31ms/step - loss: 0.3394 - accuracy: 0.8562 - val_loss: 0.4425 - val_accuracy: 0.8019\n",
      "Epoch 8/10\n",
      "782/782 [==============================] - 25s 31ms/step - loss: 0.3246 - accuracy: 0.8619 - val_loss: 0.4555 - val_accuracy: 0.7975\n",
      "Epoch 9/10\n",
      "782/782 [==============================] - 25s 31ms/step - loss: 0.3093 - accuracy: 0.8682 - val_loss: 0.4581 - val_accuracy: 0.7980\n",
      "Epoch 10/10\n",
      "782/782 [==============================] - 25s 31ms/step - loss: 0.2922 - accuracy: 0.8764 - val_loss: 0.5428 - val_accuracy: 0.7900\n"
     ]
    },
    {
     "data": {
      "text/plain": [
       "<matplotlib.legend.Legend at 0x1dc714f7ee0>"
      ]
     },
     "execution_count": 20,
     "metadata": {},
     "output_type": "execute_result"
    },
    {
     "data": {
      "image/png": "[encoded data removed]",
      "text/plain": [
       "<Figure size 432x288 with 1 Axes>"
      ]
     },
     "metadata": {},
     "output_type": "display_data"
    }
   ],
   "source": [
    "epochs = 10\n",
    "\n",
    "H = model.fit(trainData, validation_data = testData, epochs = epochs)\n",
    "\n",
    "plt.style.use('ggplot')\n",
    "plt.figure()\n",
    "plt.plot(np.arange(0, epochs), H.history['loss'], label = 'train_loss')\n",
    "plt.plot(np.arange(0, epochs), H.history['val_loss'], label = 'val_loss')\n",
    "plt.plot(np.arange(0, epochs), H.history['accuracy'], label = 'train_acc')\n",
    "plt.plot(np.arange(0, epochs), H.history['val_accuracy'], label = 'val_acc')\n",
    "    \n",
    "# add labels and legend\n",
    "plt.title('Training Loss and Accuracy')\n",
    "plt.xlabel('Epoch #')\n",
    "plt.ylabel('Loss/Accuracy')\n",
    "plt.legend()"
   ]
  },
  {
   "cell_type": "code",
   "execution_count": 21,
   "id": "7bfb4fb6-1571-4df5-97a3-c595ca469d55",
   "metadata": {},
   "outputs": [
    {
     "name": "stdout",
     "output_type": "stream",
     "text": [
      "782/782 [==============================] - 10s 13ms/step - loss: 0.5428 - accuracy: 0.7900\n"
     ]
    },
    {
     "data": {
      "text/plain": [
       "[0.5427930355072021, 0.7900000214576721]"
      ]
     },
     "execution_count": 21,
     "metadata": {},
     "output_type": "execute_result"
    }
   ],
   "source": [
    "model.evaluate(testData)"
   ]
  },
  {
   "cell_type": "markdown",
   "id": "204b5299-373d-4b30-ac2d-cc509687d7b3",
   "metadata": {},
   "source": [
    "Let's try a **bidirectional** LSTM layer."
   ]
  },
  {
   "cell_type": "code",
   "execution_count": 22,
   "id": "bcdd7cbc-d494-4cf6-86f7-72dff970cb8f",
   "metadata": {},
   "outputs": [
    {
     "name": "stdout",
     "output_type": "stream",
     "text": [
      "Found 25000 files belonging to 2 classes.\n",
      "Found 25000 files belonging to 2 classes.\n",
      "WARNING:tensorflow:Please add `keras.layers.InputLayer` instead of `keras.Input` to Sequential model. `keras.Input` is intended to be used by Functional model.\n"
     ]
    }
   ],
   "source": [
    "# read the directory into memory and clean the text\n",
    "trainData = prepareData('../data/imdb/train')\n",
    "testData = prepareData('../data/imdb/test')\n",
    "\n",
    "# create a TextVectorization layer to turn input string into a sequence of integers,\n",
    "# each representing one token\n",
    "maxTokens = 1000\n",
    "vectorizeLayer = TextVectorization(max_tokens = maxTokens,\n",
    "                                   output_mode = 'int',\n",
    "                                   output_sequence_length = 100)\n",
    "\n",
    "# adapt() fits the TextVectorization layer to our text dataset. This is when the\n",
    "# the vocabulary is selected.\n",
    "trainText = trainData.map(lambda text, label: text)\n",
    "\n",
    "vectorizeLayer.adapt(trainText)\n",
    "\n",
    "model = Sequential()\n",
    "\n",
    "model.add(Input(shape=(1,), dtype = 'string'))\n",
    "\n",
    "# add layer to the model\n",
    "model.add(vectorizeLayer)\n",
    "\n",
    "# add an embedding layer to turn integers into fixed-length vectors\n",
    "model.add(Embedding(maxTokens + 1, 128))\n",
    "\n",
    "# add a fully-connected recurrent layer\n",
    "model.add(LSTM(64, return_sequences = True))\n",
    "model.add(Dropout(0.5))\n",
    "\n",
    "# add a fully-connected recurrent layer\n",
    "model.add(Bidirectional(LSTM(64)))\n",
    "model.add(Dropout(0.5))\n",
    "\n",
    "# add a dense layer\n",
    "model.add(Dense(64, activation = 'relu'))\n",
    "model.add(Dropout(0.5))\n",
    "\n",
    "# add softmax classifier\n",
    "model.add(Dense(1, activation = 'sigmoid'))"
   ]
  },
  {
   "cell_type": "code",
   "execution_count": 23,
   "id": "8a161366-3b8e-4e74-8551-b09bd91f34c4",
   "metadata": {},
   "outputs": [
    {
     "name": "stdout",
     "output_type": "stream",
     "text": [
      "Model: \"sequential_5\"\n",
      "_________________________________________________________________\n",
      "Layer (type)                 Output Shape              Param #   \n",
      "=================================================================\n",
      "text_vectorization_5 (TextVe (None, 100)               0         \n",
      "_________________________________________________________________\n",
      "embedding_5 (Embedding)      (None, 100, 128)          128128    \n",
      "_________________________________________________________________\n",
      "lstm_4 (LSTM)                (None, 100, 64)           49408     \n",
      "_________________________________________________________________\n",
      "dropout_4 (Dropout)          (None, 100, 64)           0         \n",
      "_________________________________________________________________\n",
      "bidirectional_1 (Bidirection (None, 128)               66048     \n",
      "_________________________________________________________________\n",
      "dropout_5 (Dropout)          (None, 128)               0         \n",
      "_________________________________________________________________\n",
      "dense_10 (Dense)             (None, 64)                8256      \n",
      "_________________________________________________________________\n",
      "dropout_6 (Dropout)          (None, 64)                0         \n",
      "_________________________________________________________________\n",
      "dense_11 (Dense)             (None, 1)                 65        \n",
      "=================================================================\n",
      "Total params: 251,905\n",
      "Trainable params: 251,905\n",
      "Non-trainable params: 0\n",
      "_________________________________________________________________\n"
     ]
    }
   ],
   "source": [
    "model.compile(optimizer = 'adam', loss = 'binary_crossentropy', metrics = ['accuracy'])\n",
    "model.summary()"
   ]
  },
  {
   "cell_type": "code",
   "execution_count": 24,
   "id": "2a75297d-3574-4a35-af48-e1c6f43a18ef",
   "metadata": {},
   "outputs": [
    {
     "name": "stdout",
     "output_type": "stream",
     "text": [
      "Epoch 1/10\n",
      "782/782 [==============================] - 31s 37ms/step - loss: 0.5311 - accuracy: 0.7246 - val_loss: 0.4645 - val_accuracy: 0.7823\n",
      "Epoch 2/10\n",
      "782/782 [==============================] - 29s 37ms/step - loss: 0.4403 - accuracy: 0.8007 - val_loss: 0.4255 - val_accuracy: 0.8007\n",
      "Epoch 3/10\n",
      "782/782 [==============================] - 29s 37ms/step - loss: 0.4125 - accuracy: 0.8162 - val_loss: 0.4367 - val_accuracy: 0.8034\n",
      "Epoch 4/10\n",
      "782/782 [==============================] - 29s 37ms/step - loss: 0.3902 - accuracy: 0.8280 - val_loss: 0.4344 - val_accuracy: 0.7950\n",
      "Epoch 5/10\n",
      "782/782 [==============================] - 29s 37ms/step - loss: 0.3685 - accuracy: 0.8404 - val_loss: 0.4737 - val_accuracy: 0.7899\n",
      "Epoch 6/10\n",
      "782/782 [==============================] - 29s 37ms/step - loss: 0.3518 - accuracy: 0.8497 - val_loss: 0.5137 - val_accuracy: 0.7852\n",
      "Epoch 7/10\n",
      "782/782 [==============================] - 29s 37ms/step - loss: 0.3330 - accuracy: 0.8591 - val_loss: 0.5006 - val_accuracy: 0.7936\n",
      "Epoch 8/10\n",
      "782/782 [==============================] - 29s 37ms/step - loss: 0.3155 - accuracy: 0.8703 - val_loss: 0.4899 - val_accuracy: 0.7818\n",
      "Epoch 9/10\n",
      "782/782 [==============================] - 29s 37ms/step - loss: 0.3014 - accuracy: 0.8740 - val_loss: 0.5115 - val_accuracy: 0.7847\n",
      "Epoch 10/10\n",
      "782/782 [==============================] - 29s 37ms/step - loss: 0.2880 - accuracy: 0.8817 - val_loss: 0.5288 - val_accuracy: 0.7748\n"
     ]
    },
    {
     "data": {
      "text/plain": [
       "<matplotlib.legend.Legend at 0x1dc5a824610>"
      ]
     },
     "execution_count": 24,
     "metadata": {},
     "output_type": "execute_result"
    },
    {
     "data": {
      "image/png": "[encoded data removed]",
      "text/plain": [
       "<Figure size 432x288 with 1 Axes>"
      ]
     },
     "metadata": {},
     "output_type": "display_data"
    }
   ],
   "source": [
    "epochs = 10\n",
    "\n",
    "H = model.fit(trainData, validation_data = testData, epochs = epochs)\n",
    "\n",
    "plt.style.use('ggplot')\n",
    "plt.figure()\n",
    "plt.plot(np.arange(0, epochs), H.history['loss'], label = 'train_loss')\n",
    "plt.plot(np.arange(0, epochs), H.history['val_loss'], label = 'val_loss')\n",
    "plt.plot(np.arange(0, epochs), H.history['accuracy'], label = 'train_acc')\n",
    "plt.plot(np.arange(0, epochs), H.history['val_accuracy'], label = 'val_acc')\n",
    "    \n",
    "# add labels and legend\n",
    "plt.title('Training Loss and Accuracy')\n",
    "plt.xlabel('Epoch #')\n",
    "plt.ylabel('Loss/Accuracy')\n",
    "plt.legend()"
   ]
  },
  {
   "cell_type": "code",
   "execution_count": 25,
   "id": "62c3b422-b30f-4dc6-8629-aaec988b799b",
   "metadata": {},
   "outputs": [
    {
     "name": "stdout",
     "output_type": "stream",
     "text": [
      "782/782 [==============================] - 11s 14ms/step - loss: 0.5288 - accuracy: 0.7748\n"
     ]
    },
    {
     "data": {
      "text/plain": [
       "[0.5288146734237671, 0.7748399972915649]"
      ]
     },
     "execution_count": 25,
     "metadata": {},
     "output_type": "execute_result"
    }
   ],
   "source": [
    "model.evaluate(testData)"
   ]
  },
  {
   "cell_type": "code",
   "execution_count": 31,
   "id": "3512a8b9-573f-4e00-9cbb-269a77eedda4",
   "metadata": {},
   "outputs": [
    {
     "name": "stdout",
     "output_type": "stream",
     "text": [
      "Found 25000 files belonging to 2 classes.\n",
      "Found 25000 files belonging to 2 classes.\n",
      "WARNING:tensorflow:Please add `keras.layers.InputLayer` instead of `keras.Input` to Sequential model. `keras.Input` is intended to be used by Functional model.\n"
     ]
    }
   ],
   "source": [
    "# read the directory into memory and clean the text\n",
    "trainData = prepareData('../data/imdb/train')\n",
    "testData = prepareData('../data/imdb/test')\n",
    "\n",
    "# create a TextVectorization layer to turn input string into a sequence of integers,\n",
    "# each representing one token\n",
    "maxTokens = 1000\n",
    "vectorizeLayer = TextVectorization(max_tokens = maxTokens,\n",
    "                                   output_mode = 'int',\n",
    "                                   output_sequence_length = 100)\n",
    "\n",
    "# adapt() fits the TextVectorization layer to our text dataset. This is when the\n",
    "# the vocabulary is selected.\n",
    "trainText = trainData.map(lambda text, label: text)\n",
    "\n",
    "vectorizeLayer.adapt(trainText)\n",
    "\n",
    "model = Sequential()\n",
    "\n",
    "model.add(Input(shape=(1,), dtype = 'string'))\n",
    "\n",
    "# add layer to the model\n",
    "model.add(vectorizeLayer)\n",
    "\n",
    "# add an embedding layer to turn integers into fixed-length vectors\n",
    "model.add(Embedding(maxTokens + 1, 128))\n",
    "\n",
    "# add a bidirectional LSTM layer\n",
    "model.add(Bidirectional(LSTM(64, return_sequences = True)))\n",
    "\n",
    "# add a bidirectional LSTM layer\n",
    "model.add(Bidirectional(LSTM(64)))\n",
    "\n",
    "# add a dense layer\n",
    "model.add(Dense(64, activation = 'relu'))\n",
    "model.add(Dropout(0.5))\n",
    "\n",
    "# add softmax classifier\n",
    "model.add(Dense(1, activation = 'sigmoid'))"
   ]
  },
  {
   "cell_type": "code",
   "execution_count": 32,
   "id": "06947241-b4cd-4894-b928-23b0b3d90c05",
   "metadata": {},
   "outputs": [
    {
     "name": "stdout",
     "output_type": "stream",
     "text": [
      "Model: \"sequential_7\"\n",
      "_________________________________________________________________\n",
      "Layer (type)                 Output Shape              Param #   \n",
      "=================================================================\n",
      "text_vectorization_7 (TextVe (None, 100)               0         \n",
      "_________________________________________________________________\n",
      "embedding_7 (Embedding)      (None, 100, 128)          128128    \n",
      "_________________________________________________________________\n",
      "bidirectional_2 (Bidirection (None, 100, 128)          98816     \n",
      "_________________________________________________________________\n",
      "bidirectional_3 (Bidirection (None, 128)               98816     \n",
      "_________________________________________________________________\n",
      "dense_12 (Dense)             (None, 64)                8256      \n",
      "_________________________________________________________________\n",
      "dropout_7 (Dropout)          (None, 64)                0         \n",
      "_________________________________________________________________\n",
      "dense_13 (Dense)             (None, 1)                 65        \n",
      "=================================================================\n",
      "Total params: 334,081\n",
      "Trainable params: 334,081\n",
      "Non-trainable params: 0\n",
      "_________________________________________________________________\n"
     ]
    }
   ],
   "source": [
    "model.compile(optimizer = 'adam', loss = 'binary_crossentropy', metrics = ['accuracy'])\n",
    "model.summary()"
   ]
  },
  {
   "cell_type": "code",
   "execution_count": 33,
   "id": "03b5b19b-900f-40fd-8ad8-deb47af70a96",
   "metadata": {},
   "outputs": [
    {
     "name": "stdout",
     "output_type": "stream",
     "text": [
      "Epoch 1/10\n",
      "782/782 [==============================] - 38s 45ms/step - loss: 0.5139 - accuracy: 0.7379 - val_loss: 0.4384 - val_accuracy: 0.7917\n",
      "Epoch 2/10\n",
      "782/782 [==============================] - 33s 42ms/step - loss: 0.4280 - accuracy: 0.8044 - val_loss: 0.4305 - val_accuracy: 0.7970\n",
      "Epoch 3/10\n",
      "782/782 [==============================] - 33s 42ms/step - loss: 0.4037 - accuracy: 0.8178 - val_loss: 0.4458 - val_accuracy: 0.7835\n",
      "Epoch 4/10\n",
      "782/782 [==============================] - 33s 42ms/step - loss: 0.3759 - accuracy: 0.8324 - val_loss: 0.4479 - val_accuracy: 0.7942\n",
      "Epoch 5/10\n",
      "782/782 [==============================] - 33s 42ms/step - loss: 0.3479 - accuracy: 0.8454 - val_loss: 0.4784 - val_accuracy: 0.7955\n",
      "Epoch 6/10\n",
      "782/782 [==============================] - 33s 42ms/step - loss: 0.3224 - accuracy: 0.8590 - val_loss: 0.5075 - val_accuracy: 0.7824\n",
      "Epoch 7/10\n",
      "782/782 [==============================] - 33s 42ms/step - loss: 0.3024 - accuracy: 0.8710 - val_loss: 0.5209 - val_accuracy: 0.7759\n",
      "Epoch 8/10\n",
      "782/782 [==============================] - 33s 42ms/step - loss: 0.2772 - accuracy: 0.8816 - val_loss: 0.6027 - val_accuracy: 0.7786\n",
      "Epoch 9/10\n",
      "782/782 [==============================] - 33s 42ms/step - loss: 0.2549 - accuracy: 0.8924 - val_loss: 0.6609 - val_accuracy: 0.7733\n",
      "Epoch 10/10\n",
      "782/782 [==============================] - 33s 42ms/step - loss: 0.2373 - accuracy: 0.9004 - val_loss: 0.6439 - val_accuracy: 0.7755\n"
     ]
    },
    {
     "data": {
      "text/plain": [
       "<matplotlib.legend.Legend at 0x1dc8cc54c40>"
      ]
     },
     "execution_count": 33,
     "metadata": {},
     "output_type": "execute_result"
    },
    {
     "data": {
      "image/png": "[encoded data removed]",
      "text/plain": [
       "<Figure size 432x288 with 1 Axes>"
      ]
     },
     "metadata": {},
     "output_type": "display_data"
    }
   ],
   "source": [
    "epochs = 10\n",
    "\n",
    "H = model.fit(trainData, validation_data = testData, epochs = epochs)\n",
    "\n",
    "plt.style.use('ggplot')\n",
    "plt.figure()\n",
    "plt.plot(np.arange(0, epochs), H.history['loss'], label = 'train_loss')\n",
    "plt.plot(np.arange(0, epochs), H.history['val_loss'], label = 'val_loss')\n",
    "plt.plot(np.arange(0, epochs), H.history['accuracy'], label = 'train_acc')\n",
    "plt.plot(np.arange(0, epochs), H.history['val_accuracy'], label = 'val_acc')\n",
    "    \n",
    "# add labels and legend\n",
    "plt.title('Training Loss and Accuracy')\n",
    "plt.xlabel('Epoch #')\n",
    "plt.ylabel('Loss/Accuracy')\n",
    "plt.legend()"
   ]
  },
  {
   "cell_type": "code",
   "execution_count": 34,
   "id": "049d7e68-30d9-4265-a3e5-1f9a1dfdac8a",
   "metadata": {},
   "outputs": [
    {
     "name": "stdout",
     "output_type": "stream",
     "text": [
      "782/782 [==============================] - 13s 16ms/step - loss: 0.6439 - accuracy: 0.7755\n"
     ]
    },
    {
     "data": {
      "text/plain": [
       "[0.6438706517219543, 0.7754799723625183]"
      ]
     },
     "execution_count": 34,
     "metadata": {},
     "output_type": "execute_result"
    }
   ],
   "source": [
    "model.evaluate(testData)"
   ]
  },
  {
   "cell_type": "code",
   "execution_count": 35,
   "id": "ccb9aefa-fa88-4996-8242-5c19bfacfb6d",
   "metadata": {},
   "outputs": [
    {
     "name": "stdout",
     "output_type": "stream",
     "text": [
      "[[0.00387486]]\n",
      "[[0.9667904]]\n",
      "[[0.99967563]]\n",
      "[[0.9999263]]\n",
      "[[0.00513835]]\n"
     ]
    }
   ],
   "source": [
    "print(model.predict(['Watching this film was the worst experience of my life and I would rather die than watch it again.']))\n",
    "\n",
    "print(model.predict(['The acting is only okay in this movie, but it has an amazing storyline, so I rate it as good but not great.']))\n",
    "\n",
    "print(model.predict(['Dodgeball is my brother\\'s favorite movie, but I hate it']))\n",
    "\n",
    "print(model.predict(['Dodgeball is my brother\\'s favorite movie and it has its moments, but I think the comedy is sophomoric and crude. The acting is great, but the writing is subpar. Overall, I would rate this movie 2/10.']))\n",
    "\n",
    "print(model.predict(['I love Nicholas Cage, but this movie is horrible. NOT THE BEES.']))"
   ]
  },
  {
   "cell_type": "code",
   "execution_count": 27,
   "id": "65f9548f-789c-457a-9b39-ecb16e97b7df",
   "metadata": {},
   "outputs": [],
   "source": [
    "# delete the unzipped imdb dataset (this is just so I can upload to GitHub efficiently)\n",
    "if os.path.isfile('../data/imdb/README'):\n",
    "    shutil.rmtree('../data/imdb')"
   ]
  }
 ],
 "metadata": {
  "kernelspec": {
   "display_name": "Python 3 (ipykernel)",
   "language": "python",
   "name": "python3"
  },
  "language_info": {
   "codemirror_mode": {
    "name": "ipython",
    "version": 3
   },
   "file_extension": ".py",
   "mimetype": "text/x-python",
   "name": "python",
   "nbconvert_exporter": "python",
   "pygments_lexer": "ipython3",
   "version": "3.9.6"
  }
 },
 "nbformat": 4,
 "nbformat_minor": 5
}
